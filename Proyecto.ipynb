{
 "cells": [
  {
   "cell_type": "markdown",
   "metadata": {},
   "source": [
    "Se importan las librerias necesarias"
   ]
  },
  {
   "cell_type": "code",
   "execution_count": 222,
   "metadata": {},
   "outputs": [],
   "source": [
    "import time\n",
    "import pandas as pd\n",
    "import numpy as np\n",
    "from sklearn.model_selection import cross_val_score\n",
    "from sklearn.model_selection import train_test_split\n",
    "from sklearn.feature_extraction.text import CountVectorizer\n",
    "from sklearn.naive_bayes import MultinomialNB, BernoulliNB\n",
    "from sklearn.svm import LinearSVC\n",
    "from sklearn.linear_model import SGDClassifier\n",
    "from sklearn.ensemble import RandomForestClassifier\n",
    "from sklearn.linear_model import LogisticRegression\n",
    "from sklearn.neighbors import KNeighborsClassifier\n",
    "from sklearn.tree import DecisionTreeClassifier\n",
    "from sklearn.metrics import make_scorer\n",
    "from sklearn.metrics import accuracy_score\n",
    "import re\n",
    "import nltk\n",
    "from collections import OrderedDict\n",
    "from sklearn.feature_extraction.text import TfidfTransformer\n",
    "from sklearn.feature_extraction.text import TfidfVectorizer\n",
    "from sklearn import metrics\n",
    "from nltk.corpus import stopwords\n",
    "from nltk.tokenize import word_tokenize\n",
    "import matplotlib.pyplot as plt\n",
    "from sklearn.pipeline import Pipeline\n",
    "from sklearn.model_selection import GridSearchCV\n",
    "from nltk.stem import SnowballStemmer\n",
    "from nltk.tokenize import RegexpTokenizer\n",
    "from nltk.stem import WordNetLemmatizer\n",
    "from nltk.corpus import wordnet as wn\n",
    "from sklearn.feature_selection import SelectKBest, chi2"
   ]
  },
  {
   "cell_type": "markdown",
   "metadata": {},
   "source": [
    "La libreria de los tokens a utilizar puede ser instalada con el comando pip install --user -U nltk ."
   ]
  },
  {
   "cell_type": "markdown",
   "metadata": {},
   "source": [
    "Para la carga de los datos se efectua el siguiente metodo."
   ]
  },
  {
   "cell_type": "code",
   "execution_count": 223,
   "metadata": {},
   "outputs": [],
   "source": [
    "data=pd.read_csv('kindle_reviews.csv', sep=',', encoding = 'utf-8')"
   ]
  },
  {
   "cell_type": "markdown",
   "metadata": {},
   "source": [
    "Preprocesamiento de los datos"
   ]
  },
  {
   "cell_type": "markdown",
   "metadata": {},
   "source": [
    "Se consideran de utilidad unicamente las columnas que tienen el ID del producto, la calificacion y el comentario para predecir los sentimientos que generan este. Mas adelante, tendremos en cuenta solo los casos extremos, calificaciones de 1 y 5 para tener una mayor exactitud del modelo."
   ]
  },
  {
   "cell_type": "code",
   "execution_count": 224,
   "metadata": {},
   "outputs": [],
   "source": [
    "filteredData = data.loc[:, [\"asin\", \"reviewText\", \"overall\",]]"
   ]
  },
  {
   "cell_type": "markdown",
   "metadata": {},
   "source": [
    "Se examina la distribucion de los datos segun las calificaciones de los comentarios"
   ]
  },
  {
   "cell_type": "code",
   "execution_count": 225,
   "metadata": {},
   "outputs": [
    {
     "name": "stdout",
     "output_type": "stream",
     "text": [
      "1     23018\n",
      "2     34130\n",
      "3     96194\n",
      "4    254013\n",
      "5    575264\n",
      "Name: overall, dtype: int64\n"
     ]
    }
   ],
   "source": [
    "overallDistribution = filteredData.overall.value_counts().sort_index()\n",
    "print(overallDistribution)"
   ]
  },
  {
   "cell_type": "markdown",
   "metadata": {},
   "source": [
    "\n",
    "Lo más importante es que el número de comentarios positivos son significantemente mayores que las neutrales y als negativas. Esta situacion nos encamina a un dataset que debe ser corregido antes de entrenar los datos."
   ]
  },
  {
   "cell_type": "markdown",
   "metadata": {},
   "source": [
    "Se toman los datos  de 1 estrella y 5 estrellas como casos positivos y negativos respectivamente. Escogiendo los casos extremos, hará el modelo mucho más preciso."
   ]
  },
  {
   "cell_type": "code",
   "execution_count": 226,
   "metadata": {},
   "outputs": [],
   "source": [
    "#Performs the Data Bining of Overall field Phase for the Binary\n",
    "# classification problem 1\n",
    "#Input:\n",
    "#[data]: Dataframe list of n datasets\n",
    "#[overallSegmentSize]: Size of each overall field possible value\n",
    "#Output [cleanedData]: Dataframe list of n datasets\n",
    "\n",
    "def overallBining1and5(data, overallSegmentSize):\n",
    "    #Select and limit Ngeative Reviews\n",
    "    negReviews1 = data[data.overall == 1]\n",
    "    negReviews = negReviews1.iloc[:overallSegmentSize ,:]\n",
    "    #Select and limit Positives Reviews    \n",
    "    posReviews5 = data[data.overall == 5]\n",
    "    posReviews = posReviews5.iloc[:overallSegmentSize, :]\n",
    "    \n",
    "    cleanedData = pd.concat([negReviews, posReviews])\n",
    "    #Reset indexes to iterate cleanedData Dataframe\n",
    "    cleanedData = cleanedData.reset_index(drop=True)\n",
    "    \n",
    "    #Data bining assignation\n",
    "    cleanedData['overall'] = cleanedData['overall'] == 5\n",
    "    return cleanedData"
   ]
  },
  {
   "cell_type": "markdown",
   "metadata": {},
   "source": [
    "Se hace la liempieza de los datos con la clasificacion binaria descrita anteriormente"
   ]
  },
  {
   "cell_type": "markdown",
   "metadata": {},
   "source": [
    "Se busca el tamaño de segmento adecuado para generar una distribución rectangular de los datos limitando el tamaño de cada una de las etiquetas, por ende, decrece notablemente el tamaño de nuestro dataset, pero lo vuelve uno más preciso y adecuado para trabajar."
   ]
  },
  {
   "cell_type": "code",
   "execution_count": 227,
   "metadata": {},
   "outputs": [],
   "source": [
    "overallSegmentSize = overallDistribution.min(axis = 0)"
   ]
  },
  {
   "cell_type": "markdown",
   "metadata": {},
   "source": [
    "Para esto se usa el método de clasificación binaria creado anteriormente."
   ]
  },
  {
   "cell_type": "code",
   "execution_count": 228,
   "metadata": {},
   "outputs": [],
   "source": [
    "cleanedData= overallBining1and5(filteredData,overallSegmentSize)"
   ]
  },
  {
   "cell_type": "markdown",
   "metadata": {},
   "source": [
    "Verificamos la nueva distribucion"
   ]
  },
  {
   "cell_type": "code",
   "execution_count": 229,
   "metadata": {},
   "outputs": [
    {
     "name": "stdout",
     "output_type": "stream",
     "text": [
      "False    23018\n",
      "True     23018\n",
      "Name: overall, dtype: int64\n"
     ]
    }
   ],
   "source": [
    "overallDistribution = cleanedData.overall.value_counts().sort_index()\n",
    "print(overallDistribution)"
   ]
  },
  {
   "cell_type": "markdown",
   "metadata": {},
   "source": [
    "Transformaciones NP\n"
   ]
  },
  {
   "cell_type": "code",
   "execution_count": 230,
   "metadata": {},
   "outputs": [],
   "source": [
    "\"\"\"NLP TRANSFORMATIONS\"\"\"\n",
    "def getGlobalNLTKVars():\n",
    "    #Global NLTK Variables\n",
    "    ret = RegexpTokenizer('[a-zA-Z0-9\\']+')\n",
    "    sw = set(stopwords.words('english'))\n",
    "    #lemmaTokenizer\n",
    "    wnl = WordNetLemmatizer()\n",
    "    #stemTokenizer\n",
    "    ess = SnowballStemmer('english')\n",
    "    #POSTokenizer\n",
    "    allowed_word_types = [\"ADJ\", \"ADV\", \"NOUN\", \"VERB\"]\n",
    "    return ret, sw, wnl, ess, allowed_word_types\n",
    "\n"
   ]
  },
  {
   "cell_type": "code",
   "execution_count": 231,
   "metadata": {},
   "outputs": [],
   "source": [
    "from nltk.corpus import stopwords"
   ]
  },
  {
   "cell_type": "code",
   "execution_count": 232,
   "metadata": {},
   "outputs": [
    {
     "name": "stderr",
     "output_type": "stream",
     "text": [
      "[nltk_data] Downloading package stopwords to\n",
      "[nltk_data]     C:\\Users\\nicol\\AppData\\Roaming\\nltk_data...\n",
      "[nltk_data]   Package stopwords is already up-to-date!\n"
     ]
    },
    {
     "data": {
      "text/plain": [
       "True"
      ]
     },
     "execution_count": 232,
     "metadata": {},
     "output_type": "execute_result"
    }
   ],
   "source": [
    "nltk.download('stopwords')"
   ]
  },
  {
   "cell_type": "code",
   "execution_count": 233,
   "metadata": {},
   "outputs": [],
   "source": [
    "#Global NLTK Variables\n",
    "ret, sw, wnl, ess, allowed_word_types = getGlobalNLTKVars()"
   ]
  },
  {
   "cell_type": "markdown",
   "metadata": {},
   "source": [
    "Considerando la bolsa de palabras del dataset de comentarios. Hay caso como \"protagonista\" y \"protagonistas\" o \"incrementa\", \"incrementan\" e \"incrementando\". En el primer caso, el plural de un sustantivo no agrega informacion de calida y puede ser tomada como la singular como una representacion unica (\"Protagonista\"). En el segundo caso, hay demasiadas posibilidades con la conjugacion del verbo y considerarla a cada una de estas no es representativo."
   ]
  },
  {
   "cell_type": "markdown",
   "metadata": {},
   "source": [
    "El tokenizer stem mantiene la raiz de cada palabra"
   ]
  },
  {
   "cell_type": "code",
   "execution_count": 234,
   "metadata": {},
   "outputs": [],
   "source": [
    "#Stemmer Tokenizer\n",
    "def stemTokenizer(sentence):\n",
    "    tokens= ret.tokenize(sentence)\n",
    "    #return [ess.stem(t) for t in tokens if t not in sw]\n",
    "    return [ess.stem(t) for t in tokens]\n"
   ]
  },
  {
   "cell_type": "markdown",
   "metadata": {},
   "source": [
    "Nos ayuda a hacer una clasificacion de las palabras gracias a la lemmatizacion"
   ]
  },
  {
   "cell_type": "code",
   "execution_count": 235,
   "metadata": {},
   "outputs": [],
   "source": [
    "#return WORDNET POS compliance to WORDENT lemmatization (a,n,r,v)\n",
    "def get_wordnet_pos(pos):\n",
    "    pos_wn = [] \n",
    "    for i in range(0, len(pos)):\n",
    "        if pos[i][1] == 'ADJ':\n",
    "            pos_wn.append(wn.ADJ)\n",
    "        elif pos[i][1] == 'VERB':\n",
    "            pos_wn.append(wn.VERB)\n",
    "        elif pos[i][1] == 'ADV':\n",
    "            pos_wn.append(wn.ADV)\n",
    "        else:\n",
    "            # As default pos in lemmatization is Noun\n",
    "            pos_wn.append(wn.NOUN)\n",
    "    return pos_wn"
   ]
  },
  {
   "cell_type": "markdown",
   "metadata": {},
   "source": [
    "El Tokenizer POS esta encargado de seleccionar un rango especifico de tipos de palabras. Asi nos deshacemos de las palabras que no influyen en los sentimientos del comentario como articulos,determinantes y modales."
   ]
  },
  {
   "cell_type": "code",
   "execution_count": 236,
   "metadata": {},
   "outputs": [],
   "source": [
    "#Part of Speech Tokenizer\n",
    "def POSTokenizer(sentence):\n",
    "    tokens= ret.tokenize(sentence)\n",
    "    pos = nltk.pos_tag(tokens, tagset = \"universal\")\n",
    "    return [wnl.lemmatize(pos[i][0] ) for i in range(0, len(tokens)) \n",
    "            if pos[i][1] in allowed_word_types]"
   ]
  },
  {
   "cell_type": "markdown",
   "metadata": {},
   "source": [
    " Lemma almacena una palabra de verdad y su POS tag."
   ]
  },
  {
   "cell_type": "code",
   "execution_count": 237,
   "metadata": {},
   "outputs": [],
   "source": [
    "#Lemmatization Tokenizer\n",
    "def lemmaTokenizer(sentence):\n",
    "    tokens= ret.tokenize(sentence)\n",
    "    pos = nltk.pos_tag(tokens, tagset = \"universal\")\n",
    "    pos_wn = get_wordnet_pos(pos)\n",
    "    return [wnl.lemmatize(pos[i][0], pos_wn[i]) for i in range(0, len(tokens))]"
   ]
  },
  {
   "cell_type": "markdown",
   "metadata": {},
   "source": [
    "Se tienen en cuenta varios modelos de regresión logística a probar"
   ]
  },
  {
   "cell_type": "markdown",
   "metadata": {},
   "source": [
    "En este caso, se escogieron los modelos mas precisos, la regresion logistica, MNB y SVM ya que arrojaban unos excelentes resultados como se podra ver mas adelante en la evaluacion del modelo."
   ]
  },
  {
   "cell_type": "code",
   "execution_count": 238,
   "metadata": {},
   "outputs": [],
   "source": [
    " #Building of a Pipeline\n",
    "def buildPipeline(pipelineId):\n",
    "    if  pipelineId == 1:\n",
    "        #Pipeline 1\n",
    "        text_clf = Pipeline([('vect', TfidfVectorizer(tokenizer = stemTokenizer,\n",
    "                                    ngram_range=(1, 2), \n",
    "                                    binary = True, min_df=2, max_df=0.8)),\n",
    "                     ('chi2', SelectKBest(chi2, k=5000)),\n",
    "                     ('clf', LogisticRegression())])\n",
    "    elif pipelineId == 2:\n",
    "        #Pipeline 2 MultinomialNB\n",
    "        \n",
    "        text_clf = Pipeline([\n",
    "                            ('vect', CountVectorizer(\n",
    "                                                     max_features = 5000)),\n",
    "                          ('clf', MultinomialNB()),])\n",
    "    elif pipelineId == 3:\n",
    "        #Pipeline 3 SGD\n",
    "        text_clf = Pipeline([('vect', CountVectorizer(\n",
    "                                                     max_features = 5000)),\n",
    "                          ('clf', SGDClassifier()),])\n",
    "     \n",
    "    return text_clf"
   ]
  },
  {
   "cell_type": "markdown",
   "metadata": {},
   "source": [
    "Para entrenar el modelo"
   ]
  },
  {
   "cell_type": "markdown",
   "metadata": {},
   "source": [
    "Se crean metodos para visualizar las predicciones hechas por los modelos."
   ]
  },
  {
   "cell_type": "code",
   "execution_count": 239,
   "metadata": {},
   "outputs": [],
   "source": [
    "# Take a look at the words in the vocabulary\n",
    "def printBoW(vect, X_train):\n",
    "    # fit and transform X_train into X_train_dtm\n",
    "    X_train_dtm = vect.fit_transform(X_train)\n",
    "    X_train_dtm = X_train_dtm.toarray()\n",
    "    vocab = vect.get_feature_names()\n",
    "    #print(vocab)\n",
    "    #•print the counts of each word in the vocabulary\n",
    "    # Sum up the counts of each vocabulary word\n",
    "    freq = np.sum(X_train_dtm, axis=0)\n",
    "    # For each, print the vocabulary word and the number of times it \n",
    "    # appears in the training set\n",
    "    freqList = list(freq)\n",
    "    bowDict = {'vocab': vocab, 'freq': freqList}\n",
    "    bowDf = pd.DataFrame(data=bowDict)\n",
    "    df_sortedByValue = bowDf.sort_values(\"freq\", ascending=0)\n",
    "    #print(df_sortedByValue.head(50))\n",
    "    #plotBoW(df_sortedByValue)\n",
    "    return df_sortedByValue"
   ]
  },
  {
   "cell_type": "markdown",
   "metadata": {},
   "source": [
    "Tambien se crea una funcion para visualizar correctamente la matriz de confusion"
   ]
  },
  {
   "cell_type": "code",
   "execution_count": 240,
   "metadata": {},
   "outputs": [],
   "source": [
    "def printConfusionMatrix(y_test, y_pred_class):\n",
    "    print(\"Confusion matrix\\n\", metrics.confusion_matrix(y_test, y_pred_class))"
   ]
  },
  {
   "cell_type": "markdown",
   "metadata": {},
   "source": [
    "Para el reporte de los datos"
   ]
  },
  {
   "cell_type": "code",
   "execution_count": 241,
   "metadata": {},
   "outputs": [],
   "source": [
    "def printClfReport(y_test, y_pred_class):\n",
    "    print(\"Classification Report\\n\",metrics.classification_report(y_test, y_pred_class))"
   ]
  },
  {
   "cell_type": "markdown",
   "metadata": {},
   "source": [
    "Para la curva ROC"
   ]
  },
  {
   "cell_type": "code",
   "execution_count": 242,
   "metadata": {},
   "outputs": [],
   "source": [
    "def plotROCCurve(y_test, y_pred_class):\n",
    "    fpr, tpr, thresholds = metrics.roc_curve(y_test, y_pred_class)\n",
    "    \n",
    "    roc_auc = metrics.roc_auc_score(y_test, y_pred_class)\n",
    "\n",
    "    #Print ROC Curve\n",
    "    plt.plot(fpr, tpr, color='darkorange',\n",
    "              label='ROC curve (area = %0.2f)' % roc_auc)\n",
    "    plt.plot([0, 1], [0, 1], color='navy', linestyle='--')\n",
    "    plt.xlim([0.0, 1.0])\n",
    "    plt.ylim([0.0, 1.05])\n",
    "    plt.xlabel('False Positive Rate')\n",
    "    plt.ylabel('True Positive Rate')\n",
    "    plt.title('Receiver operating characteristic example')\n",
    "    plt.legend(loc=\"lower right\")   \n",
    "    plt.show()"
   ]
  },
  {
   "cell_type": "markdown",
   "metadata": {},
   "source": [
    "Para las palabras mas repetidas"
   ]
  },
  {
   "cell_type": "code",
   "execution_count": 243,
   "metadata": {},
   "outputs": [],
   "source": [
    "def plotBoW(df_sortedByValue, kMostFrequentWords):\n",
    "    df_sortedByValue = df_sortedByValue.reset_index(drop=True)\n",
    "    df_sortedByValue = df_sortedByValue.head(kMostFrequentWords)\n",
    "    vocab = df_sortedByValue.loc[:, 'vocab']\n",
    "    freq = df_sortedByValue.loc[:, 'freq']\n",
    "    \n",
    "    #Matplotlib order String arrays in alphabetical order by default\n",
    "    #In order to respect the original order:\n",
    "    #Use values 0,1,2,3,4,... as x and assign vocab with tick_label=\n",
    "    plt.bar(range(len(vocab)), freq , tick_label=vocab)\n",
    "    \n",
    "    plt.xticks(rotation = 45)\n",
    "    plt.xlabel('Tokens')\n",
    "    plt.ylabel('Frequency')\n",
    "    plt.title('%d Most frequent words' % kMostFrequentWords , fontweight='bold')\n",
    "    \n",
    "    plt.show()"
   ]
  },
  {
   "cell_type": "markdown",
   "metadata": {},
   "source": [
    "Para visualizar los primeros falsos positivos y falsos negativos en el modelo para cersiorarnos de la validez del modelo mas adelante"
   ]
  },
  {
   "cell_type": "code",
   "execution_count": 244,
   "metadata": {},
   "outputs": [],
   "source": [
    "def getFPandFN(X_test, y_test, y_pred_class):\n",
    "    # first 10 false positives\n",
    "    #(Negative reviews incorrectly classified as Positive reviews)\n",
    "    FP = X_test[y_test < y_pred_class]\n",
    "    # first 10 false negatives\n",
    "    #(Positives reviews incorrectly classified as Negatives reviews)\n",
    "    FN = X_test[y_test > y_pred_class]\n",
    "    print(\"False Positive Reviews: \\n\")\n",
    "    for i in range(0, 3):\n",
    "        print(FP.iloc[i])\n",
    "        print(\"\\n\\n\")\n",
    "    print(\"False Negative Reviews: \\n\")\n",
    "    for i in range(0, 3):\n",
    "        print(FN.iloc[i])\n",
    "        print(\"\\n\\n\")\n",
    "    return FP, FN"
   ]
  },
  {
   "cell_type": "markdown",
   "metadata": {},
   "source": [
    "Se escoge la variable X y la variable y para nuestro modelo. "
   ]
  },
  {
   "cell_type": "code",
   "execution_count": 245,
   "metadata": {},
   "outputs": [],
   "source": [
    "X = cleanedData.reviewText\n",
    "y = cleanedData.overall \n",
    "\n",
    "X_train, X_test, y_train, y_test = train_test_split(X, y, test_size = 0.4, \n",
    "                                                        random_state=1)\n",
    "parameters = {'vect__tokenizer': (lemmaTokenizer, None)}"
   ]
  },
  {
   "cell_type": "markdown",
   "metadata": {},
   "source": [
    "REGRESION LOGISTICA"
   ]
  },
  {
   "cell_type": "markdown",
   "metadata": {},
   "source": [
    "Se crea la pipleine para el modelo de regresión logística"
   ]
  },
  {
   "cell_type": "code",
   "execution_count": 246,
   "metadata": {},
   "outputs": [
    {
     "name": "stderr",
     "output_type": "stream",
     "text": [
      "C:\\Users\\nicol\\AppData\\Local\\Programs\\Python\\Python39\\lib\\site-packages\\sklearn\\model_selection\\_validation.py:615: FitFailedWarning: Estimator fit failed. The score on this train-test partition for these parameters will be set to nan. Details: \n",
      "Traceback (most recent call last):\n",
      "  File \"C:\\Users\\nicol\\AppData\\Local\\Programs\\Python\\Python39\\lib\\site-packages\\sklearn\\model_selection\\_validation.py\", line 598, in _fit_and_score\n",
      "    estimator.fit(X_train, y_train, **fit_params)\n",
      "  File \"C:\\Users\\nicol\\AppData\\Local\\Programs\\Python\\Python39\\lib\\site-packages\\sklearn\\pipeline.py\", line 341, in fit\n",
      "    Xt = self._fit(X, y, **fit_params_steps)\n",
      "  File \"C:\\Users\\nicol\\AppData\\Local\\Programs\\Python\\Python39\\lib\\site-packages\\sklearn\\pipeline.py\", line 303, in _fit\n",
      "    X, fitted_transformer = fit_transform_one_cached(\n",
      "  File \"C:\\Users\\nicol\\AppData\\Local\\Programs\\Python\\Python39\\lib\\site-packages\\joblib\\memory.py\", line 352, in __call__\n",
      "    return self.func(*args, **kwargs)\n",
      "  File \"C:\\Users\\nicol\\AppData\\Local\\Programs\\Python\\Python39\\lib\\site-packages\\sklearn\\pipeline.py\", line 754, in _fit_transform_one\n",
      "    res = transformer.fit_transform(X, y, **fit_params)\n",
      "  File \"C:\\Users\\nicol\\AppData\\Local\\Programs\\Python\\Python39\\lib\\site-packages\\sklearn\\feature_extraction\\text.py\", line 1846, in fit_transform\n",
      "    X = super().fit_transform(raw_documents)\n",
      "  File \"C:\\Users\\nicol\\AppData\\Local\\Programs\\Python\\Python39\\lib\\site-packages\\sklearn\\feature_extraction\\text.py\", line 1202, in fit_transform\n",
      "    vocabulary, X = self._count_vocab(raw_documents,\n",
      "  File \"C:\\Users\\nicol\\AppData\\Local\\Programs\\Python\\Python39\\lib\\site-packages\\sklearn\\feature_extraction\\text.py\", line 1114, in _count_vocab\n",
      "    for feature in analyze(doc):\n",
      "  File \"C:\\Users\\nicol\\AppData\\Local\\Programs\\Python\\Python39\\lib\\site-packages\\sklearn\\feature_extraction\\text.py\", line 106, in _analyze\n",
      "    doc = tokenizer(doc)\n",
      "  File \"C:\\Users\\nicol\\AppData\\Local\\Temp/ipykernel_19052/502478055.py\", line 4, in lemmaTokenizer\n",
      "    pos = nltk.pos_tag(tokens, tagset = \"universal\")\n",
      "  File \"C:\\Users\\nicol\\AppData\\Roaming\\Python\\Python39\\site-packages\\nltk\\tag\\__init__.py\", line 165, in pos_tag\n",
      "    tagger = _get_tagger(lang)\n",
      "  File \"C:\\Users\\nicol\\AppData\\Roaming\\Python\\Python39\\site-packages\\nltk\\tag\\__init__.py\", line 107, in _get_tagger\n",
      "    tagger = PerceptronTagger()\n",
      "  File \"C:\\Users\\nicol\\AppData\\Roaming\\Python\\Python39\\site-packages\\nltk\\tag\\perceptron.py\", line 167, in __init__\n",
      "    find(\"taggers/averaged_perceptron_tagger/\" + PICKLE)\n",
      "  File \"C:\\Users\\nicol\\AppData\\Roaming\\Python\\Python39\\site-packages\\nltk\\data.py\", line 583, in find\n",
      "    raise LookupError(resource_not_found)\n",
      "LookupError: \n",
      "**********************************************************************\n",
      "  Resource \u001b[93maveraged_perceptron_tagger\u001b[0m not found.\n",
      "  Please use the NLTK Downloader to obtain the resource:\n",
      "\n",
      "  \u001b[31m>>> import nltk\n",
      "  >>> nltk.download('averaged_perceptron_tagger')\n",
      "  \u001b[0m\n",
      "  For more information see: https://www.nltk.org/data.html\n",
      "\n",
      "  Attempted to load \u001b[93mtaggers/averaged_perceptron_tagger/averaged_perceptron_tagger.pickle\u001b[0m\n",
      "\n",
      "  Searched in:\n",
      "    - 'C:\\\\Users\\\\nicol/nltk_data'\n",
      "    - 'C:\\\\Users\\\\nicol\\\\AppData\\\\Local\\\\Programs\\\\Python\\\\Python39\\\\nltk_data'\n",
      "    - 'C:\\\\Users\\\\nicol\\\\AppData\\\\Local\\\\Programs\\\\Python\\\\Python39\\\\share\\\\nltk_data'\n",
      "    - 'C:\\\\Users\\\\nicol\\\\AppData\\\\Local\\\\Programs\\\\Python\\\\Python39\\\\lib\\\\nltk_data'\n",
      "    - 'C:\\\\Users\\\\nicol\\\\AppData\\\\Roaming\\\\nltk_data'\n",
      "    - 'C:\\\\nltk_data'\n",
      "    - 'D:\\\\nltk_data'\n",
      "    - 'E:\\\\nltk_data'\n",
      "**********************************************************************\n",
      "\n",
      "\n",
      "  warnings.warn(\"Estimator fit failed. The score on this train-test\"\n",
      "C:\\Users\\nicol\\AppData\\Local\\Programs\\Python\\Python39\\lib\\site-packages\\sklearn\\model_selection\\_validation.py:615: FitFailedWarning: Estimator fit failed. The score on this train-test partition for these parameters will be set to nan. Details: \n",
      "Traceback (most recent call last):\n",
      "  File \"C:\\Users\\nicol\\AppData\\Local\\Programs\\Python\\Python39\\lib\\site-packages\\sklearn\\model_selection\\_validation.py\", line 598, in _fit_and_score\n",
      "    estimator.fit(X_train, y_train, **fit_params)\n",
      "  File \"C:\\Users\\nicol\\AppData\\Local\\Programs\\Python\\Python39\\lib\\site-packages\\sklearn\\pipeline.py\", line 341, in fit\n",
      "    Xt = self._fit(X, y, **fit_params_steps)\n",
      "  File \"C:\\Users\\nicol\\AppData\\Local\\Programs\\Python\\Python39\\lib\\site-packages\\sklearn\\pipeline.py\", line 303, in _fit\n",
      "    X, fitted_transformer = fit_transform_one_cached(\n",
      "  File \"C:\\Users\\nicol\\AppData\\Local\\Programs\\Python\\Python39\\lib\\site-packages\\joblib\\memory.py\", line 352, in __call__\n",
      "    return self.func(*args, **kwargs)\n",
      "  File \"C:\\Users\\nicol\\AppData\\Local\\Programs\\Python\\Python39\\lib\\site-packages\\sklearn\\pipeline.py\", line 754, in _fit_transform_one\n",
      "    res = transformer.fit_transform(X, y, **fit_params)\n",
      "  File \"C:\\Users\\nicol\\AppData\\Local\\Programs\\Python\\Python39\\lib\\site-packages\\sklearn\\feature_extraction\\text.py\", line 1846, in fit_transform\n",
      "    X = super().fit_transform(raw_documents)\n",
      "  File \"C:\\Users\\nicol\\AppData\\Local\\Programs\\Python\\Python39\\lib\\site-packages\\sklearn\\feature_extraction\\text.py\", line 1202, in fit_transform\n",
      "    vocabulary, X = self._count_vocab(raw_documents,\n",
      "  File \"C:\\Users\\nicol\\AppData\\Local\\Programs\\Python\\Python39\\lib\\site-packages\\sklearn\\feature_extraction\\text.py\", line 1114, in _count_vocab\n",
      "    for feature in analyze(doc):\n",
      "  File \"C:\\Users\\nicol\\AppData\\Local\\Programs\\Python\\Python39\\lib\\site-packages\\sklearn\\feature_extraction\\text.py\", line 106, in _analyze\n",
      "    doc = tokenizer(doc)\n",
      "  File \"C:\\Users\\nicol\\AppData\\Local\\Temp/ipykernel_19052/502478055.py\", line 4, in lemmaTokenizer\n",
      "    pos = nltk.pos_tag(tokens, tagset = \"universal\")\n",
      "  File \"C:\\Users\\nicol\\AppData\\Roaming\\Python\\Python39\\site-packages\\nltk\\tag\\__init__.py\", line 165, in pos_tag\n",
      "    tagger = _get_tagger(lang)\n",
      "  File \"C:\\Users\\nicol\\AppData\\Roaming\\Python\\Python39\\site-packages\\nltk\\tag\\__init__.py\", line 107, in _get_tagger\n",
      "    tagger = PerceptronTagger()\n",
      "  File \"C:\\Users\\nicol\\AppData\\Roaming\\Python\\Python39\\site-packages\\nltk\\tag\\perceptron.py\", line 167, in __init__\n",
      "    find(\"taggers/averaged_perceptron_tagger/\" + PICKLE)\n",
      "  File \"C:\\Users\\nicol\\AppData\\Roaming\\Python\\Python39\\site-packages\\nltk\\data.py\", line 583, in find\n",
      "    raise LookupError(resource_not_found)\n",
      "LookupError: \n",
      "**********************************************************************\n",
      "  Resource \u001b[93maveraged_perceptron_tagger\u001b[0m not found.\n",
      "  Please use the NLTK Downloader to obtain the resource:\n",
      "\n",
      "  \u001b[31m>>> import nltk\n",
      "  >>> nltk.download('averaged_perceptron_tagger')\n",
      "  \u001b[0m\n",
      "  For more information see: https://www.nltk.org/data.html\n",
      "\n",
      "  Attempted to load \u001b[93mtaggers/averaged_perceptron_tagger/averaged_perceptron_tagger.pickle\u001b[0m\n",
      "\n",
      "  Searched in:\n",
      "    - 'C:\\\\Users\\\\nicol/nltk_data'\n",
      "    - 'C:\\\\Users\\\\nicol\\\\AppData\\\\Local\\\\Programs\\\\Python\\\\Python39\\\\nltk_data'\n",
      "    - 'C:\\\\Users\\\\nicol\\\\AppData\\\\Local\\\\Programs\\\\Python\\\\Python39\\\\share\\\\nltk_data'\n",
      "    - 'C:\\\\Users\\\\nicol\\\\AppData\\\\Local\\\\Programs\\\\Python\\\\Python39\\\\lib\\\\nltk_data'\n",
      "    - 'C:\\\\Users\\\\nicol\\\\AppData\\\\Roaming\\\\nltk_data'\n",
      "    - 'C:\\\\nltk_data'\n",
      "    - 'D:\\\\nltk_data'\n",
      "    - 'E:\\\\nltk_data'\n",
      "**********************************************************************\n",
      "\n",
      "\n",
      "  warnings.warn(\"Estimator fit failed. The score on this train-test\"\n",
      "C:\\Users\\nicol\\AppData\\Local\\Programs\\Python\\Python39\\lib\\site-packages\\sklearn\\model_selection\\_validation.py:615: FitFailedWarning: Estimator fit failed. The score on this train-test partition for these parameters will be set to nan. Details: \n",
      "Traceback (most recent call last):\n",
      "  File \"C:\\Users\\nicol\\AppData\\Local\\Programs\\Python\\Python39\\lib\\site-packages\\sklearn\\model_selection\\_validation.py\", line 598, in _fit_and_score\n",
      "    estimator.fit(X_train, y_train, **fit_params)\n",
      "  File \"C:\\Users\\nicol\\AppData\\Local\\Programs\\Python\\Python39\\lib\\site-packages\\sklearn\\pipeline.py\", line 341, in fit\n",
      "    Xt = self._fit(X, y, **fit_params_steps)\n",
      "  File \"C:\\Users\\nicol\\AppData\\Local\\Programs\\Python\\Python39\\lib\\site-packages\\sklearn\\pipeline.py\", line 303, in _fit\n",
      "    X, fitted_transformer = fit_transform_one_cached(\n",
      "  File \"C:\\Users\\nicol\\AppData\\Local\\Programs\\Python\\Python39\\lib\\site-packages\\joblib\\memory.py\", line 352, in __call__\n",
      "    return self.func(*args, **kwargs)\n",
      "  File \"C:\\Users\\nicol\\AppData\\Local\\Programs\\Python\\Python39\\lib\\site-packages\\sklearn\\pipeline.py\", line 754, in _fit_transform_one\n",
      "    res = transformer.fit_transform(X, y, **fit_params)\n",
      "  File \"C:\\Users\\nicol\\AppData\\Local\\Programs\\Python\\Python39\\lib\\site-packages\\sklearn\\feature_extraction\\text.py\", line 1846, in fit_transform\n",
      "    X = super().fit_transform(raw_documents)\n",
      "  File \"C:\\Users\\nicol\\AppData\\Local\\Programs\\Python\\Python39\\lib\\site-packages\\sklearn\\feature_extraction\\text.py\", line 1202, in fit_transform\n",
      "    vocabulary, X = self._count_vocab(raw_documents,\n",
      "  File \"C:\\Users\\nicol\\AppData\\Local\\Programs\\Python\\Python39\\lib\\site-packages\\sklearn\\feature_extraction\\text.py\", line 1114, in _count_vocab\n",
      "    for feature in analyze(doc):\n",
      "  File \"C:\\Users\\nicol\\AppData\\Local\\Programs\\Python\\Python39\\lib\\site-packages\\sklearn\\feature_extraction\\text.py\", line 106, in _analyze\n",
      "    doc = tokenizer(doc)\n",
      "  File \"C:\\Users\\nicol\\AppData\\Local\\Temp/ipykernel_19052/502478055.py\", line 4, in lemmaTokenizer\n",
      "    pos = nltk.pos_tag(tokens, tagset = \"universal\")\n",
      "  File \"C:\\Users\\nicol\\AppData\\Roaming\\Python\\Python39\\site-packages\\nltk\\tag\\__init__.py\", line 165, in pos_tag\n",
      "    tagger = _get_tagger(lang)\n",
      "  File \"C:\\Users\\nicol\\AppData\\Roaming\\Python\\Python39\\site-packages\\nltk\\tag\\__init__.py\", line 107, in _get_tagger\n",
      "    tagger = PerceptronTagger()\n",
      "  File \"C:\\Users\\nicol\\AppData\\Roaming\\Python\\Python39\\site-packages\\nltk\\tag\\perceptron.py\", line 167, in __init__\n",
      "    find(\"taggers/averaged_perceptron_tagger/\" + PICKLE)\n",
      "  File \"C:\\Users\\nicol\\AppData\\Roaming\\Python\\Python39\\site-packages\\nltk\\data.py\", line 583, in find\n",
      "    raise LookupError(resource_not_found)\n",
      "LookupError: \n",
      "**********************************************************************\n",
      "  Resource \u001b[93maveraged_perceptron_tagger\u001b[0m not found.\n",
      "  Please use the NLTK Downloader to obtain the resource:\n",
      "\n",
      "  \u001b[31m>>> import nltk\n",
      "  >>> nltk.download('averaged_perceptron_tagger')\n",
      "  \u001b[0m\n",
      "  For more information see: https://www.nltk.org/data.html\n",
      "\n",
      "  Attempted to load \u001b[93mtaggers/averaged_perceptron_tagger/averaged_perceptron_tagger.pickle\u001b[0m\n",
      "\n",
      "  Searched in:\n",
      "    - 'C:\\\\Users\\\\nicol/nltk_data'\n",
      "    - 'C:\\\\Users\\\\nicol\\\\AppData\\\\Local\\\\Programs\\\\Python\\\\Python39\\\\nltk_data'\n",
      "    - 'C:\\\\Users\\\\nicol\\\\AppData\\\\Local\\\\Programs\\\\Python\\\\Python39\\\\share\\\\nltk_data'\n",
      "    - 'C:\\\\Users\\\\nicol\\\\AppData\\\\Local\\\\Programs\\\\Python\\\\Python39\\\\lib\\\\nltk_data'\n",
      "    - 'C:\\\\Users\\\\nicol\\\\AppData\\\\Roaming\\\\nltk_data'\n",
      "    - 'C:\\\\nltk_data'\n",
      "    - 'D:\\\\nltk_data'\n",
      "    - 'E:\\\\nltk_data'\n",
      "**********************************************************************\n",
      "\n",
      "\n",
      "  warnings.warn(\"Estimator fit failed. The score on this train-test\"\n",
      "C:\\Users\\nicol\\AppData\\Local\\Programs\\Python\\Python39\\lib\\site-packages\\sklearn\\model_selection\\_validation.py:615: FitFailedWarning: Estimator fit failed. The score on this train-test partition for these parameters will be set to nan. Details: \n",
      "Traceback (most recent call last):\n",
      "  File \"C:\\Users\\nicol\\AppData\\Local\\Programs\\Python\\Python39\\lib\\site-packages\\sklearn\\model_selection\\_validation.py\", line 598, in _fit_and_score\n",
      "    estimator.fit(X_train, y_train, **fit_params)\n",
      "  File \"C:\\Users\\nicol\\AppData\\Local\\Programs\\Python\\Python39\\lib\\site-packages\\sklearn\\pipeline.py\", line 341, in fit\n",
      "    Xt = self._fit(X, y, **fit_params_steps)\n",
      "  File \"C:\\Users\\nicol\\AppData\\Local\\Programs\\Python\\Python39\\lib\\site-packages\\sklearn\\pipeline.py\", line 303, in _fit\n",
      "    X, fitted_transformer = fit_transform_one_cached(\n",
      "  File \"C:\\Users\\nicol\\AppData\\Local\\Programs\\Python\\Python39\\lib\\site-packages\\joblib\\memory.py\", line 352, in __call__\n",
      "    return self.func(*args, **kwargs)\n",
      "  File \"C:\\Users\\nicol\\AppData\\Local\\Programs\\Python\\Python39\\lib\\site-packages\\sklearn\\pipeline.py\", line 754, in _fit_transform_one\n",
      "    res = transformer.fit_transform(X, y, **fit_params)\n",
      "  File \"C:\\Users\\nicol\\AppData\\Local\\Programs\\Python\\Python39\\lib\\site-packages\\sklearn\\feature_extraction\\text.py\", line 1846, in fit_transform\n",
      "    X = super().fit_transform(raw_documents)\n",
      "  File \"C:\\Users\\nicol\\AppData\\Local\\Programs\\Python\\Python39\\lib\\site-packages\\sklearn\\feature_extraction\\text.py\", line 1202, in fit_transform\n",
      "    vocabulary, X = self._count_vocab(raw_documents,\n",
      "  File \"C:\\Users\\nicol\\AppData\\Local\\Programs\\Python\\Python39\\lib\\site-packages\\sklearn\\feature_extraction\\text.py\", line 1114, in _count_vocab\n",
      "    for feature in analyze(doc):\n",
      "  File \"C:\\Users\\nicol\\AppData\\Local\\Programs\\Python\\Python39\\lib\\site-packages\\sklearn\\feature_extraction\\text.py\", line 106, in _analyze\n",
      "    doc = tokenizer(doc)\n",
      "  File \"C:\\Users\\nicol\\AppData\\Local\\Temp/ipykernel_19052/502478055.py\", line 4, in lemmaTokenizer\n",
      "    pos = nltk.pos_tag(tokens, tagset = \"universal\")\n",
      "  File \"C:\\Users\\nicol\\AppData\\Roaming\\Python\\Python39\\site-packages\\nltk\\tag\\__init__.py\", line 165, in pos_tag\n",
      "    tagger = _get_tagger(lang)\n",
      "  File \"C:\\Users\\nicol\\AppData\\Roaming\\Python\\Python39\\site-packages\\nltk\\tag\\__init__.py\", line 107, in _get_tagger\n",
      "    tagger = PerceptronTagger()\n",
      "  File \"C:\\Users\\nicol\\AppData\\Roaming\\Python\\Python39\\site-packages\\nltk\\tag\\perceptron.py\", line 167, in __init__\n",
      "    find(\"taggers/averaged_perceptron_tagger/\" + PICKLE)\n",
      "  File \"C:\\Users\\nicol\\AppData\\Roaming\\Python\\Python39\\site-packages\\nltk\\data.py\", line 583, in find\n",
      "    raise LookupError(resource_not_found)\n",
      "LookupError: \n",
      "**********************************************************************\n",
      "  Resource \u001b[93maveraged_perceptron_tagger\u001b[0m not found.\n",
      "  Please use the NLTK Downloader to obtain the resource:\n",
      "\n",
      "  \u001b[31m>>> import nltk\n",
      "  >>> nltk.download('averaged_perceptron_tagger')\n",
      "  \u001b[0m\n",
      "  For more information see: https://www.nltk.org/data.html\n",
      "\n",
      "  Attempted to load \u001b[93mtaggers/averaged_perceptron_tagger/averaged_perceptron_tagger.pickle\u001b[0m\n",
      "\n",
      "  Searched in:\n",
      "    - 'C:\\\\Users\\\\nicol/nltk_data'\n",
      "    - 'C:\\\\Users\\\\nicol\\\\AppData\\\\Local\\\\Programs\\\\Python\\\\Python39\\\\nltk_data'\n",
      "    - 'C:\\\\Users\\\\nicol\\\\AppData\\\\Local\\\\Programs\\\\Python\\\\Python39\\\\share\\\\nltk_data'\n",
      "    - 'C:\\\\Users\\\\nicol\\\\AppData\\\\Local\\\\Programs\\\\Python\\\\Python39\\\\lib\\\\nltk_data'\n",
      "    - 'C:\\\\Users\\\\nicol\\\\AppData\\\\Roaming\\\\nltk_data'\n",
      "    - 'C:\\\\nltk_data'\n",
      "    - 'D:\\\\nltk_data'\n",
      "    - 'E:\\\\nltk_data'\n",
      "**********************************************************************\n",
      "\n",
      "\n",
      "  warnings.warn(\"Estimator fit failed. The score on this train-test\"\n",
      "C:\\Users\\nicol\\AppData\\Local\\Programs\\Python\\Python39\\lib\\site-packages\\sklearn\\model_selection\\_validation.py:615: FitFailedWarning: Estimator fit failed. The score on this train-test partition for these parameters will be set to nan. Details: \n",
      "Traceback (most recent call last):\n",
      "  File \"C:\\Users\\nicol\\AppData\\Local\\Programs\\Python\\Python39\\lib\\site-packages\\sklearn\\model_selection\\_validation.py\", line 598, in _fit_and_score\n",
      "    estimator.fit(X_train, y_train, **fit_params)\n",
      "  File \"C:\\Users\\nicol\\AppData\\Local\\Programs\\Python\\Python39\\lib\\site-packages\\sklearn\\pipeline.py\", line 341, in fit\n",
      "    Xt = self._fit(X, y, **fit_params_steps)\n",
      "  File \"C:\\Users\\nicol\\AppData\\Local\\Programs\\Python\\Python39\\lib\\site-packages\\sklearn\\pipeline.py\", line 303, in _fit\n",
      "    X, fitted_transformer = fit_transform_one_cached(\n",
      "  File \"C:\\Users\\nicol\\AppData\\Local\\Programs\\Python\\Python39\\lib\\site-packages\\joblib\\memory.py\", line 352, in __call__\n",
      "    return self.func(*args, **kwargs)\n",
      "  File \"C:\\Users\\nicol\\AppData\\Local\\Programs\\Python\\Python39\\lib\\site-packages\\sklearn\\pipeline.py\", line 754, in _fit_transform_one\n",
      "    res = transformer.fit_transform(X, y, **fit_params)\n",
      "  File \"C:\\Users\\nicol\\AppData\\Local\\Programs\\Python\\Python39\\lib\\site-packages\\sklearn\\feature_extraction\\text.py\", line 1846, in fit_transform\n",
      "    X = super().fit_transform(raw_documents)\n",
      "  File \"C:\\Users\\nicol\\AppData\\Local\\Programs\\Python\\Python39\\lib\\site-packages\\sklearn\\feature_extraction\\text.py\", line 1202, in fit_transform\n",
      "    vocabulary, X = self._count_vocab(raw_documents,\n",
      "  File \"C:\\Users\\nicol\\AppData\\Local\\Programs\\Python\\Python39\\lib\\site-packages\\sklearn\\feature_extraction\\text.py\", line 1114, in _count_vocab\n",
      "    for feature in analyze(doc):\n",
      "  File \"C:\\Users\\nicol\\AppData\\Local\\Programs\\Python\\Python39\\lib\\site-packages\\sklearn\\feature_extraction\\text.py\", line 106, in _analyze\n",
      "    doc = tokenizer(doc)\n",
      "  File \"C:\\Users\\nicol\\AppData\\Local\\Temp/ipykernel_19052/502478055.py\", line 4, in lemmaTokenizer\n",
      "    pos = nltk.pos_tag(tokens, tagset = \"universal\")\n",
      "  File \"C:\\Users\\nicol\\AppData\\Roaming\\Python\\Python39\\site-packages\\nltk\\tag\\__init__.py\", line 165, in pos_tag\n",
      "    tagger = _get_tagger(lang)\n",
      "  File \"C:\\Users\\nicol\\AppData\\Roaming\\Python\\Python39\\site-packages\\nltk\\tag\\__init__.py\", line 107, in _get_tagger\n",
      "    tagger = PerceptronTagger()\n",
      "  File \"C:\\Users\\nicol\\AppData\\Roaming\\Python\\Python39\\site-packages\\nltk\\tag\\perceptron.py\", line 167, in __init__\n",
      "    find(\"taggers/averaged_perceptron_tagger/\" + PICKLE)\n",
      "  File \"C:\\Users\\nicol\\AppData\\Roaming\\Python\\Python39\\site-packages\\nltk\\data.py\", line 583, in find\n",
      "    raise LookupError(resource_not_found)\n",
      "LookupError: \n",
      "**********************************************************************\n",
      "  Resource \u001b[93maveraged_perceptron_tagger\u001b[0m not found.\n",
      "  Please use the NLTK Downloader to obtain the resource:\n",
      "\n",
      "  \u001b[31m>>> import nltk\n",
      "  >>> nltk.download('averaged_perceptron_tagger')\n",
      "  \u001b[0m\n",
      "  For more information see: https://www.nltk.org/data.html\n",
      "\n",
      "  Attempted to load \u001b[93mtaggers/averaged_perceptron_tagger/averaged_perceptron_tagger.pickle\u001b[0m\n",
      "\n",
      "  Searched in:\n",
      "    - 'C:\\\\Users\\\\nicol/nltk_data'\n",
      "    - 'C:\\\\Users\\\\nicol\\\\AppData\\\\Local\\\\Programs\\\\Python\\\\Python39\\\\nltk_data'\n",
      "    - 'C:\\\\Users\\\\nicol\\\\AppData\\\\Local\\\\Programs\\\\Python\\\\Python39\\\\share\\\\nltk_data'\n",
      "    - 'C:\\\\Users\\\\nicol\\\\AppData\\\\Local\\\\Programs\\\\Python\\\\Python39\\\\lib\\\\nltk_data'\n",
      "    - 'C:\\\\Users\\\\nicol\\\\AppData\\\\Roaming\\\\nltk_data'\n",
      "    - 'C:\\\\nltk_data'\n",
      "    - 'D:\\\\nltk_data'\n",
      "    - 'E:\\\\nltk_data'\n",
      "**********************************************************************\n",
      "\n",
      "\n",
      "  warnings.warn(\"Estimator fit failed. The score on this train-test\"\n",
      "C:\\Users\\nicol\\AppData\\Local\\Programs\\Python\\Python39\\lib\\site-packages\\sklearn\\model_selection\\_search.py:922: UserWarning: One or more of the test scores are non-finite: [       nan 0.94290577]\n",
      "  warnings.warn(\n"
     ]
    }
   ],
   "source": [
    "pipelineId = 1\n",
    "text_clf = buildPipeline(pipelineId)\n",
    "    \n",
    "gs_clf = GridSearchCV(text_clf, parameters, n_jobs=1)\n",
    "gs_clf = gs_clf.fit(X_train, y_train)"
   ]
  },
  {
   "cell_type": "markdown",
   "metadata": {},
   "source": [
    "Se obtiene el mejor resultado"
   ]
  },
  {
   "cell_type": "code",
   "execution_count": 247,
   "metadata": {},
   "outputs": [
    {
     "name": "stdout",
     "output_type": "stream",
     "text": [
      "Best score:  94.29%\n"
     ]
    }
   ],
   "source": [
    "print(\"Best score:  %.2f%%\" % float(100*gs_clf.best_score_))"
   ]
  },
  {
   "cell_type": "markdown",
   "metadata": {},
   "source": [
    "Se hace la transformacion con CountVectorizer dentro de la pipeline"
   ]
  },
  {
   "cell_type": "code",
   "execution_count": 248,
   "metadata": {},
   "outputs": [],
   "source": [
    "#The pipeline already does the transformation using CountVectorizer\n",
    "X_test = X_test.reset_index(drop=True)\n",
    "X_test = X_test[:300]\n",
    "y_test = y_test.reset_index(drop=True)\n",
    "y_test = y_test[:300]\n",
    "y_pred = gs_clf.best_estimator_.predict(X_test)\n",
    "y_pred = pd.Series(data = y_pred)"
   ]
  },
  {
   "cell_type": "markdown",
   "metadata": {},
   "source": [
    "Se guarda el vector de estimación de los pasos"
   ]
  },
  {
   "cell_type": "code",
   "execution_count": 249,
   "metadata": {},
   "outputs": [],
   "source": [
    "vect = gs_clf.estimator.steps[0][1]"
   ]
  },
  {
   "cell_type": "markdown",
   "metadata": {},
   "source": [
    "Reporte de clasificacion"
   ]
  },
  {
   "cell_type": "code",
   "execution_count": 250,
   "metadata": {},
   "outputs": [
    {
     "name": "stdout",
     "output_type": "stream",
     "text": [
      "Classification Report\n",
      "               precision    recall  f1-score   support\n",
      "\n",
      "       False       0.95      0.99      0.97       150\n",
      "        True       0.99      0.95      0.97       150\n",
      "\n",
      "    accuracy                           0.97       300\n",
      "   macro avg       0.97      0.97      0.97       300\n",
      "weighted avg       0.97      0.97      0.97       300\n",
      "\n"
     ]
    }
   ],
   "source": [
    "printClfReport(y_test, y_pred)"
   ]
  },
  {
   "cell_type": "markdown",
   "metadata": {},
   "source": [
    "Matriz de confusion"
   ]
  },
  {
   "cell_type": "code",
   "execution_count": 251,
   "metadata": {},
   "outputs": [
    {
     "name": "stdout",
     "output_type": "stream",
     "text": [
      "Confusion matrix\n",
      " [[148   2]\n",
      " [  7 143]]\n"
     ]
    }
   ],
   "source": [
    "printConfusionMatrix(y_test, y_pred)"
   ]
  },
  {
   "cell_type": "markdown",
   "metadata": {},
   "source": [
    "Curva ROC"
   ]
  },
  {
   "cell_type": "code",
   "execution_count": 252,
   "metadata": {},
   "outputs": [
    {
     "data": {
      "image/png": "[encoded data removed]",
      "text/plain": [
       "<Figure size 432x288 with 1 Axes>"
      ]
     },
     "metadata": {
      "needs_background": "light"
     },
     "output_type": "display_data"
    }
   ],
   "source": [
    "plotROCCurve(y_test,y_pred)"
   ]
  },
  {
   "cell_type": "markdown",
   "metadata": {},
   "source": [
    "SUPPORT VECTOR MACHINE (SGD CLASSIFIER)"
   ]
  },
  {
   "cell_type": "code",
   "execution_count": 253,
   "metadata": {},
   "outputs": [
    {
     "name": "stderr",
     "output_type": "stream",
     "text": [
      "C:\\Users\\nicol\\AppData\\Local\\Programs\\Python\\Python39\\lib\\site-packages\\sklearn\\model_selection\\_validation.py:615: FitFailedWarning: Estimator fit failed. The score on this train-test partition for these parameters will be set to nan. Details: \n",
      "Traceback (most recent call last):\n",
      "  File \"C:\\Users\\nicol\\AppData\\Local\\Programs\\Python\\Python39\\lib\\site-packages\\sklearn\\model_selection\\_validation.py\", line 598, in _fit_and_score\n",
      "    estimator.fit(X_train, y_train, **fit_params)\n",
      "  File \"C:\\Users\\nicol\\AppData\\Local\\Programs\\Python\\Python39\\lib\\site-packages\\sklearn\\pipeline.py\", line 341, in fit\n",
      "    Xt = self._fit(X, y, **fit_params_steps)\n",
      "  File \"C:\\Users\\nicol\\AppData\\Local\\Programs\\Python\\Python39\\lib\\site-packages\\sklearn\\pipeline.py\", line 303, in _fit\n",
      "    X, fitted_transformer = fit_transform_one_cached(\n",
      "  File \"C:\\Users\\nicol\\AppData\\Local\\Programs\\Python\\Python39\\lib\\site-packages\\joblib\\memory.py\", line 352, in __call__\n",
      "    return self.func(*args, **kwargs)\n",
      "  File \"C:\\Users\\nicol\\AppData\\Local\\Programs\\Python\\Python39\\lib\\site-packages\\sklearn\\pipeline.py\", line 754, in _fit_transform_one\n",
      "    res = transformer.fit_transform(X, y, **fit_params)\n",
      "  File \"C:\\Users\\nicol\\AppData\\Local\\Programs\\Python\\Python39\\lib\\site-packages\\sklearn\\feature_extraction\\text.py\", line 1202, in fit_transform\n",
      "    vocabulary, X = self._count_vocab(raw_documents,\n",
      "  File \"C:\\Users\\nicol\\AppData\\Local\\Programs\\Python\\Python39\\lib\\site-packages\\sklearn\\feature_extraction\\text.py\", line 1114, in _count_vocab\n",
      "    for feature in analyze(doc):\n",
      "  File \"C:\\Users\\nicol\\AppData\\Local\\Programs\\Python\\Python39\\lib\\site-packages\\sklearn\\feature_extraction\\text.py\", line 106, in _analyze\n",
      "    doc = tokenizer(doc)\n",
      "  File \"C:\\Users\\nicol\\AppData\\Local\\Temp/ipykernel_19052/502478055.py\", line 4, in lemmaTokenizer\n",
      "    pos = nltk.pos_tag(tokens, tagset = \"universal\")\n",
      "  File \"C:\\Users\\nicol\\AppData\\Roaming\\Python\\Python39\\site-packages\\nltk\\tag\\__init__.py\", line 165, in pos_tag\n",
      "    tagger = _get_tagger(lang)\n",
      "  File \"C:\\Users\\nicol\\AppData\\Roaming\\Python\\Python39\\site-packages\\nltk\\tag\\__init__.py\", line 107, in _get_tagger\n",
      "    tagger = PerceptronTagger()\n",
      "  File \"C:\\Users\\nicol\\AppData\\Roaming\\Python\\Python39\\site-packages\\nltk\\tag\\perceptron.py\", line 167, in __init__\n",
      "    find(\"taggers/averaged_perceptron_tagger/\" + PICKLE)\n",
      "  File \"C:\\Users\\nicol\\AppData\\Roaming\\Python\\Python39\\site-packages\\nltk\\data.py\", line 583, in find\n",
      "    raise LookupError(resource_not_found)\n",
      "LookupError: \n",
      "**********************************************************************\n",
      "  Resource \u001b[93maveraged_perceptron_tagger\u001b[0m not found.\n",
      "  Please use the NLTK Downloader to obtain the resource:\n",
      "\n",
      "  \u001b[31m>>> import nltk\n",
      "  >>> nltk.download('averaged_perceptron_tagger')\n",
      "  \u001b[0m\n",
      "  For more information see: https://www.nltk.org/data.html\n",
      "\n",
      "  Attempted to load \u001b[93mtaggers/averaged_perceptron_tagger/averaged_perceptron_tagger.pickle\u001b[0m\n",
      "\n",
      "  Searched in:\n",
      "    - 'C:\\\\Users\\\\nicol/nltk_data'\n",
      "    - 'C:\\\\Users\\\\nicol\\\\AppData\\\\Local\\\\Programs\\\\Python\\\\Python39\\\\nltk_data'\n",
      "    - 'C:\\\\Users\\\\nicol\\\\AppData\\\\Local\\\\Programs\\\\Python\\\\Python39\\\\share\\\\nltk_data'\n",
      "    - 'C:\\\\Users\\\\nicol\\\\AppData\\\\Local\\\\Programs\\\\Python\\\\Python39\\\\lib\\\\nltk_data'\n",
      "    - 'C:\\\\Users\\\\nicol\\\\AppData\\\\Roaming\\\\nltk_data'\n",
      "    - 'C:\\\\nltk_data'\n",
      "    - 'D:\\\\nltk_data'\n",
      "    - 'E:\\\\nltk_data'\n",
      "**********************************************************************\n",
      "\n",
      "\n",
      "  warnings.warn(\"Estimator fit failed. The score on this train-test\"\n",
      "C:\\Users\\nicol\\AppData\\Local\\Programs\\Python\\Python39\\lib\\site-packages\\sklearn\\model_selection\\_validation.py:615: FitFailedWarning: Estimator fit failed. The score on this train-test partition for these parameters will be set to nan. Details: \n",
      "Traceback (most recent call last):\n",
      "  File \"C:\\Users\\nicol\\AppData\\Local\\Programs\\Python\\Python39\\lib\\site-packages\\sklearn\\model_selection\\_validation.py\", line 598, in _fit_and_score\n",
      "    estimator.fit(X_train, y_train, **fit_params)\n",
      "  File \"C:\\Users\\nicol\\AppData\\Local\\Programs\\Python\\Python39\\lib\\site-packages\\sklearn\\pipeline.py\", line 341, in fit\n",
      "    Xt = self._fit(X, y, **fit_params_steps)\n",
      "  File \"C:\\Users\\nicol\\AppData\\Local\\Programs\\Python\\Python39\\lib\\site-packages\\sklearn\\pipeline.py\", line 303, in _fit\n",
      "    X, fitted_transformer = fit_transform_one_cached(\n",
      "  File \"C:\\Users\\nicol\\AppData\\Local\\Programs\\Python\\Python39\\lib\\site-packages\\joblib\\memory.py\", line 352, in __call__\n",
      "    return self.func(*args, **kwargs)\n",
      "  File \"C:\\Users\\nicol\\AppData\\Local\\Programs\\Python\\Python39\\lib\\site-packages\\sklearn\\pipeline.py\", line 754, in _fit_transform_one\n",
      "    res = transformer.fit_transform(X, y, **fit_params)\n",
      "  File \"C:\\Users\\nicol\\AppData\\Local\\Programs\\Python\\Python39\\lib\\site-packages\\sklearn\\feature_extraction\\text.py\", line 1202, in fit_transform\n",
      "    vocabulary, X = self._count_vocab(raw_documents,\n",
      "  File \"C:\\Users\\nicol\\AppData\\Local\\Programs\\Python\\Python39\\lib\\site-packages\\sklearn\\feature_extraction\\text.py\", line 1114, in _count_vocab\n",
      "    for feature in analyze(doc):\n",
      "  File \"C:\\Users\\nicol\\AppData\\Local\\Programs\\Python\\Python39\\lib\\site-packages\\sklearn\\feature_extraction\\text.py\", line 106, in _analyze\n",
      "    doc = tokenizer(doc)\n",
      "  File \"C:\\Users\\nicol\\AppData\\Local\\Temp/ipykernel_19052/502478055.py\", line 4, in lemmaTokenizer\n",
      "    pos = nltk.pos_tag(tokens, tagset = \"universal\")\n",
      "  File \"C:\\Users\\nicol\\AppData\\Roaming\\Python\\Python39\\site-packages\\nltk\\tag\\__init__.py\", line 165, in pos_tag\n",
      "    tagger = _get_tagger(lang)\n",
      "  File \"C:\\Users\\nicol\\AppData\\Roaming\\Python\\Python39\\site-packages\\nltk\\tag\\__init__.py\", line 107, in _get_tagger\n",
      "    tagger = PerceptronTagger()\n",
      "  File \"C:\\Users\\nicol\\AppData\\Roaming\\Python\\Python39\\site-packages\\nltk\\tag\\perceptron.py\", line 167, in __init__\n",
      "    find(\"taggers/averaged_perceptron_tagger/\" + PICKLE)\n",
      "  File \"C:\\Users\\nicol\\AppData\\Roaming\\Python\\Python39\\site-packages\\nltk\\data.py\", line 583, in find\n",
      "    raise LookupError(resource_not_found)\n",
      "LookupError: \n",
      "**********************************************************************\n",
      "  Resource \u001b[93maveraged_perceptron_tagger\u001b[0m not found.\n",
      "  Please use the NLTK Downloader to obtain the resource:\n",
      "\n",
      "  \u001b[31m>>> import nltk\n",
      "  >>> nltk.download('averaged_perceptron_tagger')\n",
      "  \u001b[0m\n",
      "  For more information see: https://www.nltk.org/data.html\n",
      "\n",
      "  Attempted to load \u001b[93mtaggers/averaged_perceptron_tagger/averaged_perceptron_tagger.pickle\u001b[0m\n",
      "\n",
      "  Searched in:\n",
      "    - 'C:\\\\Users\\\\nicol/nltk_data'\n",
      "    - 'C:\\\\Users\\\\nicol\\\\AppData\\\\Local\\\\Programs\\\\Python\\\\Python39\\\\nltk_data'\n",
      "    - 'C:\\\\Users\\\\nicol\\\\AppData\\\\Local\\\\Programs\\\\Python\\\\Python39\\\\share\\\\nltk_data'\n",
      "    - 'C:\\\\Users\\\\nicol\\\\AppData\\\\Local\\\\Programs\\\\Python\\\\Python39\\\\lib\\\\nltk_data'\n",
      "    - 'C:\\\\Users\\\\nicol\\\\AppData\\\\Roaming\\\\nltk_data'\n",
      "    - 'C:\\\\nltk_data'\n",
      "    - 'D:\\\\nltk_data'\n",
      "    - 'E:\\\\nltk_data'\n",
      "**********************************************************************\n",
      "\n",
      "\n",
      "  warnings.warn(\"Estimator fit failed. The score on this train-test\"\n",
      "C:\\Users\\nicol\\AppData\\Local\\Programs\\Python\\Python39\\lib\\site-packages\\sklearn\\model_selection\\_validation.py:615: FitFailedWarning: Estimator fit failed. The score on this train-test partition for these parameters will be set to nan. Details: \n",
      "Traceback (most recent call last):\n",
      "  File \"C:\\Users\\nicol\\AppData\\Local\\Programs\\Python\\Python39\\lib\\site-packages\\sklearn\\model_selection\\_validation.py\", line 598, in _fit_and_score\n",
      "    estimator.fit(X_train, y_train, **fit_params)\n",
      "  File \"C:\\Users\\nicol\\AppData\\Local\\Programs\\Python\\Python39\\lib\\site-packages\\sklearn\\pipeline.py\", line 341, in fit\n",
      "    Xt = self._fit(X, y, **fit_params_steps)\n",
      "  File \"C:\\Users\\nicol\\AppData\\Local\\Programs\\Python\\Python39\\lib\\site-packages\\sklearn\\pipeline.py\", line 303, in _fit\n",
      "    X, fitted_transformer = fit_transform_one_cached(\n",
      "  File \"C:\\Users\\nicol\\AppData\\Local\\Programs\\Python\\Python39\\lib\\site-packages\\joblib\\memory.py\", line 352, in __call__\n",
      "    return self.func(*args, **kwargs)\n",
      "  File \"C:\\Users\\nicol\\AppData\\Local\\Programs\\Python\\Python39\\lib\\site-packages\\sklearn\\pipeline.py\", line 754, in _fit_transform_one\n",
      "    res = transformer.fit_transform(X, y, **fit_params)\n",
      "  File \"C:\\Users\\nicol\\AppData\\Local\\Programs\\Python\\Python39\\lib\\site-packages\\sklearn\\feature_extraction\\text.py\", line 1202, in fit_transform\n",
      "    vocabulary, X = self._count_vocab(raw_documents,\n",
      "  File \"C:\\Users\\nicol\\AppData\\Local\\Programs\\Python\\Python39\\lib\\site-packages\\sklearn\\feature_extraction\\text.py\", line 1114, in _count_vocab\n",
      "    for feature in analyze(doc):\n",
      "  File \"C:\\Users\\nicol\\AppData\\Local\\Programs\\Python\\Python39\\lib\\site-packages\\sklearn\\feature_extraction\\text.py\", line 106, in _analyze\n",
      "    doc = tokenizer(doc)\n",
      "  File \"C:\\Users\\nicol\\AppData\\Local\\Temp/ipykernel_19052/502478055.py\", line 4, in lemmaTokenizer\n",
      "    pos = nltk.pos_tag(tokens, tagset = \"universal\")\n",
      "  File \"C:\\Users\\nicol\\AppData\\Roaming\\Python\\Python39\\site-packages\\nltk\\tag\\__init__.py\", line 165, in pos_tag\n",
      "    tagger = _get_tagger(lang)\n",
      "  File \"C:\\Users\\nicol\\AppData\\Roaming\\Python\\Python39\\site-packages\\nltk\\tag\\__init__.py\", line 107, in _get_tagger\n",
      "    tagger = PerceptronTagger()\n",
      "  File \"C:\\Users\\nicol\\AppData\\Roaming\\Python\\Python39\\site-packages\\nltk\\tag\\perceptron.py\", line 167, in __init__\n",
      "    find(\"taggers/averaged_perceptron_tagger/\" + PICKLE)\n",
      "  File \"C:\\Users\\nicol\\AppData\\Roaming\\Python\\Python39\\site-packages\\nltk\\data.py\", line 583, in find\n",
      "    raise LookupError(resource_not_found)\n",
      "LookupError: \n",
      "**********************************************************************\n",
      "  Resource \u001b[93maveraged_perceptron_tagger\u001b[0m not found.\n",
      "  Please use the NLTK Downloader to obtain the resource:\n",
      "\n",
      "  \u001b[31m>>> import nltk\n",
      "  >>> nltk.download('averaged_perceptron_tagger')\n",
      "  \u001b[0m\n",
      "  For more information see: https://www.nltk.org/data.html\n",
      "\n",
      "  Attempted to load \u001b[93mtaggers/averaged_perceptron_tagger/averaged_perceptron_tagger.pickle\u001b[0m\n",
      "\n",
      "  Searched in:\n",
      "    - 'C:\\\\Users\\\\nicol/nltk_data'\n",
      "    - 'C:\\\\Users\\\\nicol\\\\AppData\\\\Local\\\\Programs\\\\Python\\\\Python39\\\\nltk_data'\n",
      "    - 'C:\\\\Users\\\\nicol\\\\AppData\\\\Local\\\\Programs\\\\Python\\\\Python39\\\\share\\\\nltk_data'\n",
      "    - 'C:\\\\Users\\\\nicol\\\\AppData\\\\Local\\\\Programs\\\\Python\\\\Python39\\\\lib\\\\nltk_data'\n",
      "    - 'C:\\\\Users\\\\nicol\\\\AppData\\\\Roaming\\\\nltk_data'\n",
      "    - 'C:\\\\nltk_data'\n",
      "    - 'D:\\\\nltk_data'\n",
      "    - 'E:\\\\nltk_data'\n",
      "**********************************************************************\n",
      "\n",
      "\n",
      "  warnings.warn(\"Estimator fit failed. The score on this train-test\"\n",
      "C:\\Users\\nicol\\AppData\\Local\\Programs\\Python\\Python39\\lib\\site-packages\\sklearn\\model_selection\\_validation.py:615: FitFailedWarning: Estimator fit failed. The score on this train-test partition for these parameters will be set to nan. Details: \n",
      "Traceback (most recent call last):\n",
      "  File \"C:\\Users\\nicol\\AppData\\Local\\Programs\\Python\\Python39\\lib\\site-packages\\sklearn\\model_selection\\_validation.py\", line 598, in _fit_and_score\n",
      "    estimator.fit(X_train, y_train, **fit_params)\n",
      "  File \"C:\\Users\\nicol\\AppData\\Local\\Programs\\Python\\Python39\\lib\\site-packages\\sklearn\\pipeline.py\", line 341, in fit\n",
      "    Xt = self._fit(X, y, **fit_params_steps)\n",
      "  File \"C:\\Users\\nicol\\AppData\\Local\\Programs\\Python\\Python39\\lib\\site-packages\\sklearn\\pipeline.py\", line 303, in _fit\n",
      "    X, fitted_transformer = fit_transform_one_cached(\n",
      "  File \"C:\\Users\\nicol\\AppData\\Local\\Programs\\Python\\Python39\\lib\\site-packages\\joblib\\memory.py\", line 352, in __call__\n",
      "    return self.func(*args, **kwargs)\n",
      "  File \"C:\\Users\\nicol\\AppData\\Local\\Programs\\Python\\Python39\\lib\\site-packages\\sklearn\\pipeline.py\", line 754, in _fit_transform_one\n",
      "    res = transformer.fit_transform(X, y, **fit_params)\n",
      "  File \"C:\\Users\\nicol\\AppData\\Local\\Programs\\Python\\Python39\\lib\\site-packages\\sklearn\\feature_extraction\\text.py\", line 1202, in fit_transform\n",
      "    vocabulary, X = self._count_vocab(raw_documents,\n",
      "  File \"C:\\Users\\nicol\\AppData\\Local\\Programs\\Python\\Python39\\lib\\site-packages\\sklearn\\feature_extraction\\text.py\", line 1114, in _count_vocab\n",
      "    for feature in analyze(doc):\n",
      "  File \"C:\\Users\\nicol\\AppData\\Local\\Programs\\Python\\Python39\\lib\\site-packages\\sklearn\\feature_extraction\\text.py\", line 106, in _analyze\n",
      "    doc = tokenizer(doc)\n",
      "  File \"C:\\Users\\nicol\\AppData\\Local\\Temp/ipykernel_19052/502478055.py\", line 4, in lemmaTokenizer\n",
      "    pos = nltk.pos_tag(tokens, tagset = \"universal\")\n",
      "  File \"C:\\Users\\nicol\\AppData\\Roaming\\Python\\Python39\\site-packages\\nltk\\tag\\__init__.py\", line 165, in pos_tag\n",
      "    tagger = _get_tagger(lang)\n",
      "  File \"C:\\Users\\nicol\\AppData\\Roaming\\Python\\Python39\\site-packages\\nltk\\tag\\__init__.py\", line 107, in _get_tagger\n",
      "    tagger = PerceptronTagger()\n",
      "  File \"C:\\Users\\nicol\\AppData\\Roaming\\Python\\Python39\\site-packages\\nltk\\tag\\perceptron.py\", line 167, in __init__\n",
      "    find(\"taggers/averaged_perceptron_tagger/\" + PICKLE)\n",
      "  File \"C:\\Users\\nicol\\AppData\\Roaming\\Python\\Python39\\site-packages\\nltk\\data.py\", line 583, in find\n",
      "    raise LookupError(resource_not_found)\n",
      "LookupError: \n",
      "**********************************************************************\n",
      "  Resource \u001b[93maveraged_perceptron_tagger\u001b[0m not found.\n",
      "  Please use the NLTK Downloader to obtain the resource:\n",
      "\n",
      "  \u001b[31m>>> import nltk\n",
      "  >>> nltk.download('averaged_perceptron_tagger')\n",
      "  \u001b[0m\n",
      "  For more information see: https://www.nltk.org/data.html\n",
      "\n",
      "  Attempted to load \u001b[93mtaggers/averaged_perceptron_tagger/averaged_perceptron_tagger.pickle\u001b[0m\n",
      "\n",
      "  Searched in:\n",
      "    - 'C:\\\\Users\\\\nicol/nltk_data'\n",
      "    - 'C:\\\\Users\\\\nicol\\\\AppData\\\\Local\\\\Programs\\\\Python\\\\Python39\\\\nltk_data'\n",
      "    - 'C:\\\\Users\\\\nicol\\\\AppData\\\\Local\\\\Programs\\\\Python\\\\Python39\\\\share\\\\nltk_data'\n",
      "    - 'C:\\\\Users\\\\nicol\\\\AppData\\\\Local\\\\Programs\\\\Python\\\\Python39\\\\lib\\\\nltk_data'\n",
      "    - 'C:\\\\Users\\\\nicol\\\\AppData\\\\Roaming\\\\nltk_data'\n",
      "    - 'C:\\\\nltk_data'\n",
      "    - 'D:\\\\nltk_data'\n",
      "    - 'E:\\\\nltk_data'\n",
      "**********************************************************************\n",
      "\n",
      "\n",
      "  warnings.warn(\"Estimator fit failed. The score on this train-test\"\n",
      "C:\\Users\\nicol\\AppData\\Local\\Programs\\Python\\Python39\\lib\\site-packages\\sklearn\\model_selection\\_validation.py:615: FitFailedWarning: Estimator fit failed. The score on this train-test partition for these parameters will be set to nan. Details: \n",
      "Traceback (most recent call last):\n",
      "  File \"C:\\Users\\nicol\\AppData\\Local\\Programs\\Python\\Python39\\lib\\site-packages\\sklearn\\model_selection\\_validation.py\", line 598, in _fit_and_score\n",
      "    estimator.fit(X_train, y_train, **fit_params)\n",
      "  File \"C:\\Users\\nicol\\AppData\\Local\\Programs\\Python\\Python39\\lib\\site-packages\\sklearn\\pipeline.py\", line 341, in fit\n",
      "    Xt = self._fit(X, y, **fit_params_steps)\n",
      "  File \"C:\\Users\\nicol\\AppData\\Local\\Programs\\Python\\Python39\\lib\\site-packages\\sklearn\\pipeline.py\", line 303, in _fit\n",
      "    X, fitted_transformer = fit_transform_one_cached(\n",
      "  File \"C:\\Users\\nicol\\AppData\\Local\\Programs\\Python\\Python39\\lib\\site-packages\\joblib\\memory.py\", line 352, in __call__\n",
      "    return self.func(*args, **kwargs)\n",
      "  File \"C:\\Users\\nicol\\AppData\\Local\\Programs\\Python\\Python39\\lib\\site-packages\\sklearn\\pipeline.py\", line 754, in _fit_transform_one\n",
      "    res = transformer.fit_transform(X, y, **fit_params)\n",
      "  File \"C:\\Users\\nicol\\AppData\\Local\\Programs\\Python\\Python39\\lib\\site-packages\\sklearn\\feature_extraction\\text.py\", line 1202, in fit_transform\n",
      "    vocabulary, X = self._count_vocab(raw_documents,\n",
      "  File \"C:\\Users\\nicol\\AppData\\Local\\Programs\\Python\\Python39\\lib\\site-packages\\sklearn\\feature_extraction\\text.py\", line 1114, in _count_vocab\n",
      "    for feature in analyze(doc):\n",
      "  File \"C:\\Users\\nicol\\AppData\\Local\\Programs\\Python\\Python39\\lib\\site-packages\\sklearn\\feature_extraction\\text.py\", line 106, in _analyze\n",
      "    doc = tokenizer(doc)\n",
      "  File \"C:\\Users\\nicol\\AppData\\Local\\Temp/ipykernel_19052/502478055.py\", line 4, in lemmaTokenizer\n",
      "    pos = nltk.pos_tag(tokens, tagset = \"universal\")\n",
      "  File \"C:\\Users\\nicol\\AppData\\Roaming\\Python\\Python39\\site-packages\\nltk\\tag\\__init__.py\", line 165, in pos_tag\n",
      "    tagger = _get_tagger(lang)\n",
      "  File \"C:\\Users\\nicol\\AppData\\Roaming\\Python\\Python39\\site-packages\\nltk\\tag\\__init__.py\", line 107, in _get_tagger\n",
      "    tagger = PerceptronTagger()\n",
      "  File \"C:\\Users\\nicol\\AppData\\Roaming\\Python\\Python39\\site-packages\\nltk\\tag\\perceptron.py\", line 167, in __init__\n",
      "    find(\"taggers/averaged_perceptron_tagger/\" + PICKLE)\n",
      "  File \"C:\\Users\\nicol\\AppData\\Roaming\\Python\\Python39\\site-packages\\nltk\\data.py\", line 583, in find\n",
      "    raise LookupError(resource_not_found)\n",
      "LookupError: \n",
      "**********************************************************************\n",
      "  Resource \u001b[93maveraged_perceptron_tagger\u001b[0m not found.\n",
      "  Please use the NLTK Downloader to obtain the resource:\n",
      "\n",
      "  \u001b[31m>>> import nltk\n",
      "  >>> nltk.download('averaged_perceptron_tagger')\n",
      "  \u001b[0m\n",
      "  For more information see: https://www.nltk.org/data.html\n",
      "\n",
      "  Attempted to load \u001b[93mtaggers/averaged_perceptron_tagger/averaged_perceptron_tagger.pickle\u001b[0m\n",
      "\n",
      "  Searched in:\n",
      "    - 'C:\\\\Users\\\\nicol/nltk_data'\n",
      "    - 'C:\\\\Users\\\\nicol\\\\AppData\\\\Local\\\\Programs\\\\Python\\\\Python39\\\\nltk_data'\n",
      "    - 'C:\\\\Users\\\\nicol\\\\AppData\\\\Local\\\\Programs\\\\Python\\\\Python39\\\\share\\\\nltk_data'\n",
      "    - 'C:\\\\Users\\\\nicol\\\\AppData\\\\Local\\\\Programs\\\\Python\\\\Python39\\\\lib\\\\nltk_data'\n",
      "    - 'C:\\\\Users\\\\nicol\\\\AppData\\\\Roaming\\\\nltk_data'\n",
      "    - 'C:\\\\nltk_data'\n",
      "    - 'D:\\\\nltk_data'\n",
      "    - 'E:\\\\nltk_data'\n",
      "**********************************************************************\n",
      "\n",
      "\n",
      "  warnings.warn(\"Estimator fit failed. The score on this train-test\"\n",
      "C:\\Users\\nicol\\AppData\\Local\\Programs\\Python\\Python39\\lib\\site-packages\\sklearn\\model_selection\\_search.py:922: UserWarning: One or more of the test scores are non-finite: [       nan 0.93168248]\n",
      "  warnings.warn(\n"
     ]
    }
   ],
   "source": [
    "pipelineId = 3\n",
    "text_clf = buildPipeline(pipelineId)\n",
    "    \n",
    "gs_clf = GridSearchCV(text_clf, parameters, n_jobs=1)\n",
    "gs_clf = gs_clf.fit(X_train, y_train)"
   ]
  },
  {
   "cell_type": "code",
   "execution_count": 254,
   "metadata": {},
   "outputs": [
    {
     "name": "stdout",
     "output_type": "stream",
     "text": [
      "Best score:  93.17%\n"
     ]
    }
   ],
   "source": [
    "print(\"Best score:  %.2f%%\" % float(100*gs_clf.best_score_))"
   ]
  },
  {
   "cell_type": "code",
   "execution_count": 255,
   "metadata": {},
   "outputs": [],
   "source": [
    "#The pipeline already does the transformation using CountVectorizer\n",
    "X_test = X_test.reset_index(drop=True)\n",
    "X_test = X_test[:300]\n",
    "y_test = y_test.reset_index(drop=True)\n",
    "y_test = y_test[:300]\n",
    "y_pred = gs_clf.best_estimator_.predict(X_test)\n",
    "y_pred = pd.Series(data = y_pred)"
   ]
  },
  {
   "cell_type": "code",
   "execution_count": 256,
   "metadata": {},
   "outputs": [],
   "source": [
    "vect = gs_clf.estimator.steps[0][1]"
   ]
  },
  {
   "cell_type": "code",
   "execution_count": 257,
   "metadata": {},
   "outputs": [
    {
     "name": "stdout",
     "output_type": "stream",
     "text": [
      "Classification Report\n",
      "               precision    recall  f1-score   support\n",
      "\n",
      "       False       0.97      0.97      0.97       150\n",
      "        True       0.97      0.97      0.97       150\n",
      "\n",
      "    accuracy                           0.97       300\n",
      "   macro avg       0.97      0.97      0.97       300\n",
      "weighted avg       0.97      0.97      0.97       300\n",
      "\n"
     ]
    }
   ],
   "source": [
    "printClfReport(y_test, y_pred)"
   ]
  },
  {
   "cell_type": "code",
   "execution_count": 258,
   "metadata": {},
   "outputs": [
    {
     "name": "stdout",
     "output_type": "stream",
     "text": [
      "Confusion matrix\n",
      " [[146   4]\n",
      " [  5 145]]\n"
     ]
    }
   ],
   "source": [
    "printConfusionMatrix(y_test, y_pred)"
   ]
  },
  {
   "cell_type": "code",
   "execution_count": 259,
   "metadata": {},
   "outputs": [
    {
     "data": {
      "image/png": "[encoded data removed]",
      "text/plain": [
       "<Figure size 432x288 with 1 Axes>"
      ]
     },
     "metadata": {
      "needs_background": "light"
     },
     "output_type": "display_data"
    }
   ],
   "source": [
    "plotROCCurve(y_test,y_pred)"
   ]
  },
  {
   "cell_type": "markdown",
   "metadata": {},
   "source": [
    "Se verifican los primeros 3 falsos positivos y falsos negativos para verificar la validez del modelo"
   ]
  },
  {
   "cell_type": "code",
   "execution_count": 260,
   "metadata": {},
   "outputs": [
    {
     "name": "stdout",
     "output_type": "stream",
     "text": [
      "False Positive Reviews: \n",
      "\n",
      "I really like Alexa and think she's amazing but I don't agree with how her relationship's with David and Rachel ended. I feel like David got of easy for his infidelity. He tells his wife, then brings his kid home and thinks Alexa will just have to give in. He gets to keep his marriage and son and move on as if nothing happened. His practice doesn't even suffer. I feel like Alexa and Rachel suffer but David gets away with what he does.  Rachel sufferers when she gets locked up as she loses her family. She also loses the opportunity to connect with her son. Even though she suffers, I feel like she should have apologized to Alexa. Although some would see her giving up custody of her son as her way to right her wrong. I don't know that anyone can actually be as forgiving as Alexa was. I feel like she gets the short end of the stick and has to make due. I wanted a better ending for her. The story is well written and makes you want to know what will happen next.\n",
      "\n",
      "\n",
      "\n",
      "I'm pretty sure that in this book (like the first one) there wasn't much in the way of pleasure for the woman, just pain.\n",
      "\n",
      "\n",
      "\n",
      "I did not read this book because it gave you just enough of the books being reviewed to make you think that you have read the book when reviewing/ looking for a new book to read.\n",
      "\n",
      "\n",
      "\n",
      "False Negative Reviews: \n",
      "\n",
      "Lots of soft romance and action in densely packed novel not sure how accurate the time  line spent in England was true the date. As well as those were treated if the handicap was from birth or an accident. Also the same for that in Italy especially where the dressing of those of upper class and that of lower.A bit of women's fashion history:Though the lower class in Italy made much more sense, but fashion and women during those times, didn't seem to matter. High class or low class, women were expected to dressed up which could take hours depending on how high class your family was.  To the point that after every thing was done, you still didn't  have any underwear on or if you did you had to have a servant or two to pull it down so you could use the chamberpot then get you clean and get all the pettycoats all back in place. And only the very rich had stools for the women to sit on so the pettycoats would fall to the floor around the women or they were left to stand until the next day.  As sitting in a normal chair allowed all that passed to see all those pettycoats as well if were wearing underwear or not. Not to mention you had to have help standing back up.\n",
      "\n",
      "\n",
      "\n",
      "Like both characters.  Sara was irritating at times when she could not be more honest to her Prince.  Still a good read.\n",
      "\n",
      "\n",
      "\n",
      "Just finished this one.  I gave all the Spinward Fringe series 5 stars, however, prior to this installment I thought origins might have been the best.  This one is just as good.I'm tired of all the people that complain about the occasional grammatical errors or misspelled words here or there.  The world does not have enough good sci-fi and I think this is really good.If grammar or spelling is your most important criteria for judging a book, please go read \"Gone With The Wind\" or \"The English Patient\" or something equally boring.  The lack of an editor could just mean that we are seeing great sci-fi here because the books have little influence from others.  These books are \"unfiltered\" straight from the authors mind.If you look under Kindle ebooks - Science Fiction - High Tech, you will see that 4 of the books in this series are in the top 20.  That is not too bad and is certainly worth a few stars.  Isn't it?\n",
      "\n",
      "\n",
      "\n"
     ]
    },
    {
     "data": {
      "text/plain": [
       "(7      I really like Alexa and think she's amazing bu...\n",
       " 30     I'm pretty sure that in this book (like the fi...\n",
       " 31     I did not read this book because it gave you j...\n",
       " 240    Don't start reading this book if you expect it...\n",
       " Name: reviewText, dtype: object,\n",
       " 38     Lots of soft romance and action in densely pac...\n",
       " 39     Like both characters.  Sara was irritating at ...\n",
       " 53     Just finished this one.  I gave all the Spinwa...\n",
       " 183    Okay I like sharia writing, I don't care about...\n",
       " 195    There are plenty of ideas in this imaginative ...\n",
       " Name: reviewText, dtype: object)"
      ]
     },
     "execution_count": 260,
     "metadata": {},
     "output_type": "execute_result"
    }
   ],
   "source": [
    "getFPandFN(X_test,y_test,y_pred)"
   ]
  },
  {
   "cell_type": "markdown",
   "metadata": {},
   "source": [
    "Para el algoritmo MULTINOMIAL NATIVE BAYES (MNB)"
   ]
  },
  {
   "cell_type": "code",
   "execution_count": 261,
   "metadata": {},
   "outputs": [
    {
     "name": "stderr",
     "output_type": "stream",
     "text": [
      "C:\\Users\\nicol\\AppData\\Local\\Programs\\Python\\Python39\\lib\\site-packages\\sklearn\\model_selection\\_validation.py:615: FitFailedWarning: Estimator fit failed. The score on this train-test partition for these parameters will be set to nan. Details: \n",
      "Traceback (most recent call last):\n",
      "  File \"C:\\Users\\nicol\\AppData\\Local\\Programs\\Python\\Python39\\lib\\site-packages\\sklearn\\model_selection\\_validation.py\", line 598, in _fit_and_score\n",
      "    estimator.fit(X_train, y_train, **fit_params)\n",
      "  File \"C:\\Users\\nicol\\AppData\\Local\\Programs\\Python\\Python39\\lib\\site-packages\\sklearn\\pipeline.py\", line 341, in fit\n",
      "    Xt = self._fit(X, y, **fit_params_steps)\n",
      "  File \"C:\\Users\\nicol\\AppData\\Local\\Programs\\Python\\Python39\\lib\\site-packages\\sklearn\\pipeline.py\", line 303, in _fit\n",
      "    X, fitted_transformer = fit_transform_one_cached(\n",
      "  File \"C:\\Users\\nicol\\AppData\\Local\\Programs\\Python\\Python39\\lib\\site-packages\\joblib\\memory.py\", line 352, in __call__\n",
      "    return self.func(*args, **kwargs)\n",
      "  File \"C:\\Users\\nicol\\AppData\\Local\\Programs\\Python\\Python39\\lib\\site-packages\\sklearn\\pipeline.py\", line 754, in _fit_transform_one\n",
      "    res = transformer.fit_transform(X, y, **fit_params)\n",
      "  File \"C:\\Users\\nicol\\AppData\\Local\\Programs\\Python\\Python39\\lib\\site-packages\\sklearn\\feature_extraction\\text.py\", line 1202, in fit_transform\n",
      "    vocabulary, X = self._count_vocab(raw_documents,\n",
      "  File \"C:\\Users\\nicol\\AppData\\Local\\Programs\\Python\\Python39\\lib\\site-packages\\sklearn\\feature_extraction\\text.py\", line 1114, in _count_vocab\n",
      "    for feature in analyze(doc):\n",
      "  File \"C:\\Users\\nicol\\AppData\\Local\\Programs\\Python\\Python39\\lib\\site-packages\\sklearn\\feature_extraction\\text.py\", line 106, in _analyze\n",
      "    doc = tokenizer(doc)\n",
      "  File \"C:\\Users\\nicol\\AppData\\Local\\Temp/ipykernel_19052/502478055.py\", line 4, in lemmaTokenizer\n",
      "    pos = nltk.pos_tag(tokens, tagset = \"universal\")\n",
      "  File \"C:\\Users\\nicol\\AppData\\Roaming\\Python\\Python39\\site-packages\\nltk\\tag\\__init__.py\", line 165, in pos_tag\n",
      "    tagger = _get_tagger(lang)\n",
      "  File \"C:\\Users\\nicol\\AppData\\Roaming\\Python\\Python39\\site-packages\\nltk\\tag\\__init__.py\", line 107, in _get_tagger\n",
      "    tagger = PerceptronTagger()\n",
      "  File \"C:\\Users\\nicol\\AppData\\Roaming\\Python\\Python39\\site-packages\\nltk\\tag\\perceptron.py\", line 167, in __init__\n",
      "    find(\"taggers/averaged_perceptron_tagger/\" + PICKLE)\n",
      "  File \"C:\\Users\\nicol\\AppData\\Roaming\\Python\\Python39\\site-packages\\nltk\\data.py\", line 583, in find\n",
      "    raise LookupError(resource_not_found)\n",
      "LookupError: \n",
      "**********************************************************************\n",
      "  Resource \u001b[93maveraged_perceptron_tagger\u001b[0m not found.\n",
      "  Please use the NLTK Downloader to obtain the resource:\n",
      "\n",
      "  \u001b[31m>>> import nltk\n",
      "  >>> nltk.download('averaged_perceptron_tagger')\n",
      "  \u001b[0m\n",
      "  For more information see: https://www.nltk.org/data.html\n",
      "\n",
      "  Attempted to load \u001b[93mtaggers/averaged_perceptron_tagger/averaged_perceptron_tagger.pickle\u001b[0m\n",
      "\n",
      "  Searched in:\n",
      "    - 'C:\\\\Users\\\\nicol/nltk_data'\n",
      "    - 'C:\\\\Users\\\\nicol\\\\AppData\\\\Local\\\\Programs\\\\Python\\\\Python39\\\\nltk_data'\n",
      "    - 'C:\\\\Users\\\\nicol\\\\AppData\\\\Local\\\\Programs\\\\Python\\\\Python39\\\\share\\\\nltk_data'\n",
      "    - 'C:\\\\Users\\\\nicol\\\\AppData\\\\Local\\\\Programs\\\\Python\\\\Python39\\\\lib\\\\nltk_data'\n",
      "    - 'C:\\\\Users\\\\nicol\\\\AppData\\\\Roaming\\\\nltk_data'\n",
      "    - 'C:\\\\nltk_data'\n",
      "    - 'D:\\\\nltk_data'\n",
      "    - 'E:\\\\nltk_data'\n",
      "**********************************************************************\n",
      "\n",
      "\n",
      "  warnings.warn(\"Estimator fit failed. The score on this train-test\"\n",
      "C:\\Users\\nicol\\AppData\\Local\\Programs\\Python\\Python39\\lib\\site-packages\\sklearn\\model_selection\\_validation.py:615: FitFailedWarning: Estimator fit failed. The score on this train-test partition for these parameters will be set to nan. Details: \n",
      "Traceback (most recent call last):\n",
      "  File \"C:\\Users\\nicol\\AppData\\Local\\Programs\\Python\\Python39\\lib\\site-packages\\sklearn\\model_selection\\_validation.py\", line 598, in _fit_and_score\n",
      "    estimator.fit(X_train, y_train, **fit_params)\n",
      "  File \"C:\\Users\\nicol\\AppData\\Local\\Programs\\Python\\Python39\\lib\\site-packages\\sklearn\\pipeline.py\", line 341, in fit\n",
      "    Xt = self._fit(X, y, **fit_params_steps)\n",
      "  File \"C:\\Users\\nicol\\AppData\\Local\\Programs\\Python\\Python39\\lib\\site-packages\\sklearn\\pipeline.py\", line 303, in _fit\n",
      "    X, fitted_transformer = fit_transform_one_cached(\n",
      "  File \"C:\\Users\\nicol\\AppData\\Local\\Programs\\Python\\Python39\\lib\\site-packages\\joblib\\memory.py\", line 352, in __call__\n",
      "    return self.func(*args, **kwargs)\n",
      "  File \"C:\\Users\\nicol\\AppData\\Local\\Programs\\Python\\Python39\\lib\\site-packages\\sklearn\\pipeline.py\", line 754, in _fit_transform_one\n",
      "    res = transformer.fit_transform(X, y, **fit_params)\n",
      "  File \"C:\\Users\\nicol\\AppData\\Local\\Programs\\Python\\Python39\\lib\\site-packages\\sklearn\\feature_extraction\\text.py\", line 1202, in fit_transform\n",
      "    vocabulary, X = self._count_vocab(raw_documents,\n",
      "  File \"C:\\Users\\nicol\\AppData\\Local\\Programs\\Python\\Python39\\lib\\site-packages\\sklearn\\feature_extraction\\text.py\", line 1114, in _count_vocab\n",
      "    for feature in analyze(doc):\n",
      "  File \"C:\\Users\\nicol\\AppData\\Local\\Programs\\Python\\Python39\\lib\\site-packages\\sklearn\\feature_extraction\\text.py\", line 106, in _analyze\n",
      "    doc = tokenizer(doc)\n",
      "  File \"C:\\Users\\nicol\\AppData\\Local\\Temp/ipykernel_19052/502478055.py\", line 4, in lemmaTokenizer\n",
      "    pos = nltk.pos_tag(tokens, tagset = \"universal\")\n",
      "  File \"C:\\Users\\nicol\\AppData\\Roaming\\Python\\Python39\\site-packages\\nltk\\tag\\__init__.py\", line 165, in pos_tag\n",
      "    tagger = _get_tagger(lang)\n",
      "  File \"C:\\Users\\nicol\\AppData\\Roaming\\Python\\Python39\\site-packages\\nltk\\tag\\__init__.py\", line 107, in _get_tagger\n",
      "    tagger = PerceptronTagger()\n",
      "  File \"C:\\Users\\nicol\\AppData\\Roaming\\Python\\Python39\\site-packages\\nltk\\tag\\perceptron.py\", line 167, in __init__\n",
      "    find(\"taggers/averaged_perceptron_tagger/\" + PICKLE)\n",
      "  File \"C:\\Users\\nicol\\AppData\\Roaming\\Python\\Python39\\site-packages\\nltk\\data.py\", line 583, in find\n",
      "    raise LookupError(resource_not_found)\n",
      "LookupError: \n",
      "**********************************************************************\n",
      "  Resource \u001b[93maveraged_perceptron_tagger\u001b[0m not found.\n",
      "  Please use the NLTK Downloader to obtain the resource:\n",
      "\n",
      "  \u001b[31m>>> import nltk\n",
      "  >>> nltk.download('averaged_perceptron_tagger')\n",
      "  \u001b[0m\n",
      "  For more information see: https://www.nltk.org/data.html\n",
      "\n",
      "  Attempted to load \u001b[93mtaggers/averaged_perceptron_tagger/averaged_perceptron_tagger.pickle\u001b[0m\n",
      "\n",
      "  Searched in:\n",
      "    - 'C:\\\\Users\\\\nicol/nltk_data'\n",
      "    - 'C:\\\\Users\\\\nicol\\\\AppData\\\\Local\\\\Programs\\\\Python\\\\Python39\\\\nltk_data'\n",
      "    - 'C:\\\\Users\\\\nicol\\\\AppData\\\\Local\\\\Programs\\\\Python\\\\Python39\\\\share\\\\nltk_data'\n",
      "    - 'C:\\\\Users\\\\nicol\\\\AppData\\\\Local\\\\Programs\\\\Python\\\\Python39\\\\lib\\\\nltk_data'\n",
      "    - 'C:\\\\Users\\\\nicol\\\\AppData\\\\Roaming\\\\nltk_data'\n",
      "    - 'C:\\\\nltk_data'\n",
      "    - 'D:\\\\nltk_data'\n",
      "    - 'E:\\\\nltk_data'\n",
      "**********************************************************************\n",
      "\n",
      "\n",
      "  warnings.warn(\"Estimator fit failed. The score on this train-test\"\n",
      "C:\\Users\\nicol\\AppData\\Local\\Programs\\Python\\Python39\\lib\\site-packages\\sklearn\\model_selection\\_validation.py:615: FitFailedWarning: Estimator fit failed. The score on this train-test partition for these parameters will be set to nan. Details: \n",
      "Traceback (most recent call last):\n",
      "  File \"C:\\Users\\nicol\\AppData\\Local\\Programs\\Python\\Python39\\lib\\site-packages\\sklearn\\model_selection\\_validation.py\", line 598, in _fit_and_score\n",
      "    estimator.fit(X_train, y_train, **fit_params)\n",
      "  File \"C:\\Users\\nicol\\AppData\\Local\\Programs\\Python\\Python39\\lib\\site-packages\\sklearn\\pipeline.py\", line 341, in fit\n",
      "    Xt = self._fit(X, y, **fit_params_steps)\n",
      "  File \"C:\\Users\\nicol\\AppData\\Local\\Programs\\Python\\Python39\\lib\\site-packages\\sklearn\\pipeline.py\", line 303, in _fit\n",
      "    X, fitted_transformer = fit_transform_one_cached(\n",
      "  File \"C:\\Users\\nicol\\AppData\\Local\\Programs\\Python\\Python39\\lib\\site-packages\\joblib\\memory.py\", line 352, in __call__\n",
      "    return self.func(*args, **kwargs)\n",
      "  File \"C:\\Users\\nicol\\AppData\\Local\\Programs\\Python\\Python39\\lib\\site-packages\\sklearn\\pipeline.py\", line 754, in _fit_transform_one\n",
      "    res = transformer.fit_transform(X, y, **fit_params)\n",
      "  File \"C:\\Users\\nicol\\AppData\\Local\\Programs\\Python\\Python39\\lib\\site-packages\\sklearn\\feature_extraction\\text.py\", line 1202, in fit_transform\n",
      "    vocabulary, X = self._count_vocab(raw_documents,\n",
      "  File \"C:\\Users\\nicol\\AppData\\Local\\Programs\\Python\\Python39\\lib\\site-packages\\sklearn\\feature_extraction\\text.py\", line 1114, in _count_vocab\n",
      "    for feature in analyze(doc):\n",
      "  File \"C:\\Users\\nicol\\AppData\\Local\\Programs\\Python\\Python39\\lib\\site-packages\\sklearn\\feature_extraction\\text.py\", line 106, in _analyze\n",
      "    doc = tokenizer(doc)\n",
      "  File \"C:\\Users\\nicol\\AppData\\Local\\Temp/ipykernel_19052/502478055.py\", line 4, in lemmaTokenizer\n",
      "    pos = nltk.pos_tag(tokens, tagset = \"universal\")\n",
      "  File \"C:\\Users\\nicol\\AppData\\Roaming\\Python\\Python39\\site-packages\\nltk\\tag\\__init__.py\", line 165, in pos_tag\n",
      "    tagger = _get_tagger(lang)\n",
      "  File \"C:\\Users\\nicol\\AppData\\Roaming\\Python\\Python39\\site-packages\\nltk\\tag\\__init__.py\", line 107, in _get_tagger\n",
      "    tagger = PerceptronTagger()\n",
      "  File \"C:\\Users\\nicol\\AppData\\Roaming\\Python\\Python39\\site-packages\\nltk\\tag\\perceptron.py\", line 167, in __init__\n",
      "    find(\"taggers/averaged_perceptron_tagger/\" + PICKLE)\n",
      "  File \"C:\\Users\\nicol\\AppData\\Roaming\\Python\\Python39\\site-packages\\nltk\\data.py\", line 583, in find\n",
      "    raise LookupError(resource_not_found)\n",
      "LookupError: \n",
      "**********************************************************************\n",
      "  Resource \u001b[93maveraged_perceptron_tagger\u001b[0m not found.\n",
      "  Please use the NLTK Downloader to obtain the resource:\n",
      "\n",
      "  \u001b[31m>>> import nltk\n",
      "  >>> nltk.download('averaged_perceptron_tagger')\n",
      "  \u001b[0m\n",
      "  For more information see: https://www.nltk.org/data.html\n",
      "\n",
      "  Attempted to load \u001b[93mtaggers/averaged_perceptron_tagger/averaged_perceptron_tagger.pickle\u001b[0m\n",
      "\n",
      "  Searched in:\n",
      "    - 'C:\\\\Users\\\\nicol/nltk_data'\n",
      "    - 'C:\\\\Users\\\\nicol\\\\AppData\\\\Local\\\\Programs\\\\Python\\\\Python39\\\\nltk_data'\n",
      "    - 'C:\\\\Users\\\\nicol\\\\AppData\\\\Local\\\\Programs\\\\Python\\\\Python39\\\\share\\\\nltk_data'\n",
      "    - 'C:\\\\Users\\\\nicol\\\\AppData\\\\Local\\\\Programs\\\\Python\\\\Python39\\\\lib\\\\nltk_data'\n",
      "    - 'C:\\\\Users\\\\nicol\\\\AppData\\\\Roaming\\\\nltk_data'\n",
      "    - 'C:\\\\nltk_data'\n",
      "    - 'D:\\\\nltk_data'\n",
      "    - 'E:\\\\nltk_data'\n",
      "**********************************************************************\n",
      "\n",
      "\n",
      "  warnings.warn(\"Estimator fit failed. The score on this train-test\"\n",
      "C:\\Users\\nicol\\AppData\\Local\\Programs\\Python\\Python39\\lib\\site-packages\\sklearn\\model_selection\\_validation.py:615: FitFailedWarning: Estimator fit failed. The score on this train-test partition for these parameters will be set to nan. Details: \n",
      "Traceback (most recent call last):\n",
      "  File \"C:\\Users\\nicol\\AppData\\Local\\Programs\\Python\\Python39\\lib\\site-packages\\sklearn\\model_selection\\_validation.py\", line 598, in _fit_and_score\n",
      "    estimator.fit(X_train, y_train, **fit_params)\n",
      "  File \"C:\\Users\\nicol\\AppData\\Local\\Programs\\Python\\Python39\\lib\\site-packages\\sklearn\\pipeline.py\", line 341, in fit\n",
      "    Xt = self._fit(X, y, **fit_params_steps)\n",
      "  File \"C:\\Users\\nicol\\AppData\\Local\\Programs\\Python\\Python39\\lib\\site-packages\\sklearn\\pipeline.py\", line 303, in _fit\n",
      "    X, fitted_transformer = fit_transform_one_cached(\n",
      "  File \"C:\\Users\\nicol\\AppData\\Local\\Programs\\Python\\Python39\\lib\\site-packages\\joblib\\memory.py\", line 352, in __call__\n",
      "    return self.func(*args, **kwargs)\n",
      "  File \"C:\\Users\\nicol\\AppData\\Local\\Programs\\Python\\Python39\\lib\\site-packages\\sklearn\\pipeline.py\", line 754, in _fit_transform_one\n",
      "    res = transformer.fit_transform(X, y, **fit_params)\n",
      "  File \"C:\\Users\\nicol\\AppData\\Local\\Programs\\Python\\Python39\\lib\\site-packages\\sklearn\\feature_extraction\\text.py\", line 1202, in fit_transform\n",
      "    vocabulary, X = self._count_vocab(raw_documents,\n",
      "  File \"C:\\Users\\nicol\\AppData\\Local\\Programs\\Python\\Python39\\lib\\site-packages\\sklearn\\feature_extraction\\text.py\", line 1114, in _count_vocab\n",
      "    for feature in analyze(doc):\n",
      "  File \"C:\\Users\\nicol\\AppData\\Local\\Programs\\Python\\Python39\\lib\\site-packages\\sklearn\\feature_extraction\\text.py\", line 106, in _analyze\n",
      "    doc = tokenizer(doc)\n",
      "  File \"C:\\Users\\nicol\\AppData\\Local\\Temp/ipykernel_19052/502478055.py\", line 4, in lemmaTokenizer\n",
      "    pos = nltk.pos_tag(tokens, tagset = \"universal\")\n",
      "  File \"C:\\Users\\nicol\\AppData\\Roaming\\Python\\Python39\\site-packages\\nltk\\tag\\__init__.py\", line 165, in pos_tag\n",
      "    tagger = _get_tagger(lang)\n",
      "  File \"C:\\Users\\nicol\\AppData\\Roaming\\Python\\Python39\\site-packages\\nltk\\tag\\__init__.py\", line 107, in _get_tagger\n",
      "    tagger = PerceptronTagger()\n",
      "  File \"C:\\Users\\nicol\\AppData\\Roaming\\Python\\Python39\\site-packages\\nltk\\tag\\perceptron.py\", line 167, in __init__\n",
      "    find(\"taggers/averaged_perceptron_tagger/\" + PICKLE)\n",
      "  File \"C:\\Users\\nicol\\AppData\\Roaming\\Python\\Python39\\site-packages\\nltk\\data.py\", line 583, in find\n",
      "    raise LookupError(resource_not_found)\n",
      "LookupError: \n",
      "**********************************************************************\n",
      "  Resource \u001b[93maveraged_perceptron_tagger\u001b[0m not found.\n",
      "  Please use the NLTK Downloader to obtain the resource:\n",
      "\n",
      "  \u001b[31m>>> import nltk\n",
      "  >>> nltk.download('averaged_perceptron_tagger')\n",
      "  \u001b[0m\n",
      "  For more information see: https://www.nltk.org/data.html\n",
      "\n",
      "  Attempted to load \u001b[93mtaggers/averaged_perceptron_tagger/averaged_perceptron_tagger.pickle\u001b[0m\n",
      "\n",
      "  Searched in:\n",
      "    - 'C:\\\\Users\\\\nicol/nltk_data'\n",
      "    - 'C:\\\\Users\\\\nicol\\\\AppData\\\\Local\\\\Programs\\\\Python\\\\Python39\\\\nltk_data'\n",
      "    - 'C:\\\\Users\\\\nicol\\\\AppData\\\\Local\\\\Programs\\\\Python\\\\Python39\\\\share\\\\nltk_data'\n",
      "    - 'C:\\\\Users\\\\nicol\\\\AppData\\\\Local\\\\Programs\\\\Python\\\\Python39\\\\lib\\\\nltk_data'\n",
      "    - 'C:\\\\Users\\\\nicol\\\\AppData\\\\Roaming\\\\nltk_data'\n",
      "    - 'C:\\\\nltk_data'\n",
      "    - 'D:\\\\nltk_data'\n",
      "    - 'E:\\\\nltk_data'\n",
      "**********************************************************************\n",
      "\n",
      "\n",
      "  warnings.warn(\"Estimator fit failed. The score on this train-test\"\n",
      "C:\\Users\\nicol\\AppData\\Local\\Programs\\Python\\Python39\\lib\\site-packages\\sklearn\\model_selection\\_validation.py:615: FitFailedWarning: Estimator fit failed. The score on this train-test partition for these parameters will be set to nan. Details: \n",
      "Traceback (most recent call last):\n",
      "  File \"C:\\Users\\nicol\\AppData\\Local\\Programs\\Python\\Python39\\lib\\site-packages\\sklearn\\model_selection\\_validation.py\", line 598, in _fit_and_score\n",
      "    estimator.fit(X_train, y_train, **fit_params)\n",
      "  File \"C:\\Users\\nicol\\AppData\\Local\\Programs\\Python\\Python39\\lib\\site-packages\\sklearn\\pipeline.py\", line 341, in fit\n",
      "    Xt = self._fit(X, y, **fit_params_steps)\n",
      "  File \"C:\\Users\\nicol\\AppData\\Local\\Programs\\Python\\Python39\\lib\\site-packages\\sklearn\\pipeline.py\", line 303, in _fit\n",
      "    X, fitted_transformer = fit_transform_one_cached(\n",
      "  File \"C:\\Users\\nicol\\AppData\\Local\\Programs\\Python\\Python39\\lib\\site-packages\\joblib\\memory.py\", line 352, in __call__\n",
      "    return self.func(*args, **kwargs)\n",
      "  File \"C:\\Users\\nicol\\AppData\\Local\\Programs\\Python\\Python39\\lib\\site-packages\\sklearn\\pipeline.py\", line 754, in _fit_transform_one\n",
      "    res = transformer.fit_transform(X, y, **fit_params)\n",
      "  File \"C:\\Users\\nicol\\AppData\\Local\\Programs\\Python\\Python39\\lib\\site-packages\\sklearn\\feature_extraction\\text.py\", line 1202, in fit_transform\n",
      "    vocabulary, X = self._count_vocab(raw_documents,\n",
      "  File \"C:\\Users\\nicol\\AppData\\Local\\Programs\\Python\\Python39\\lib\\site-packages\\sklearn\\feature_extraction\\text.py\", line 1114, in _count_vocab\n",
      "    for feature in analyze(doc):\n",
      "  File \"C:\\Users\\nicol\\AppData\\Local\\Programs\\Python\\Python39\\lib\\site-packages\\sklearn\\feature_extraction\\text.py\", line 106, in _analyze\n",
      "    doc = tokenizer(doc)\n",
      "  File \"C:\\Users\\nicol\\AppData\\Local\\Temp/ipykernel_19052/502478055.py\", line 4, in lemmaTokenizer\n",
      "    pos = nltk.pos_tag(tokens, tagset = \"universal\")\n",
      "  File \"C:\\Users\\nicol\\AppData\\Roaming\\Python\\Python39\\site-packages\\nltk\\tag\\__init__.py\", line 165, in pos_tag\n",
      "    tagger = _get_tagger(lang)\n",
      "  File \"C:\\Users\\nicol\\AppData\\Roaming\\Python\\Python39\\site-packages\\nltk\\tag\\__init__.py\", line 107, in _get_tagger\n",
      "    tagger = PerceptronTagger()\n",
      "  File \"C:\\Users\\nicol\\AppData\\Roaming\\Python\\Python39\\site-packages\\nltk\\tag\\perceptron.py\", line 167, in __init__\n",
      "    find(\"taggers/averaged_perceptron_tagger/\" + PICKLE)\n",
      "  File \"C:\\Users\\nicol\\AppData\\Roaming\\Python\\Python39\\site-packages\\nltk\\data.py\", line 583, in find\n",
      "    raise LookupError(resource_not_found)\n",
      "LookupError: \n",
      "**********************************************************************\n",
      "  Resource \u001b[93maveraged_perceptron_tagger\u001b[0m not found.\n",
      "  Please use the NLTK Downloader to obtain the resource:\n",
      "\n",
      "  \u001b[31m>>> import nltk\n",
      "  >>> nltk.download('averaged_perceptron_tagger')\n",
      "  \u001b[0m\n",
      "  For more information see: https://www.nltk.org/data.html\n",
      "\n",
      "  Attempted to load \u001b[93mtaggers/averaged_perceptron_tagger/averaged_perceptron_tagger.pickle\u001b[0m\n",
      "\n",
      "  Searched in:\n",
      "    - 'C:\\\\Users\\\\nicol/nltk_data'\n",
      "    - 'C:\\\\Users\\\\nicol\\\\AppData\\\\Local\\\\Programs\\\\Python\\\\Python39\\\\nltk_data'\n",
      "    - 'C:\\\\Users\\\\nicol\\\\AppData\\\\Local\\\\Programs\\\\Python\\\\Python39\\\\share\\\\nltk_data'\n",
      "    - 'C:\\\\Users\\\\nicol\\\\AppData\\\\Local\\\\Programs\\\\Python\\\\Python39\\\\lib\\\\nltk_data'\n",
      "    - 'C:\\\\Users\\\\nicol\\\\AppData\\\\Roaming\\\\nltk_data'\n",
      "    - 'C:\\\\nltk_data'\n",
      "    - 'D:\\\\nltk_data'\n",
      "    - 'E:\\\\nltk_data'\n",
      "**********************************************************************\n",
      "\n",
      "\n",
      "  warnings.warn(\"Estimator fit failed. The score on this train-test\"\n",
      "C:\\Users\\nicol\\AppData\\Local\\Programs\\Python\\Python39\\lib\\site-packages\\sklearn\\model_selection\\_search.py:922: UserWarning: One or more of the test scores are non-finite: [       nan 0.91904717]\n",
      "  warnings.warn(\n"
     ]
    }
   ],
   "source": [
    "pipelineId = 2\n",
    "text_clf = buildPipeline(pipelineId)\n",
    "    \n",
    "gs_clf = GridSearchCV(text_clf, parameters, n_jobs=1)\n",
    "gs_clf = gs_clf.fit(X_train, y_train)"
   ]
  },
  {
   "cell_type": "code",
   "execution_count": 262,
   "metadata": {},
   "outputs": [
    {
     "name": "stdout",
     "output_type": "stream",
     "text": [
      "Best score:  91.90%\n"
     ]
    }
   ],
   "source": [
    "print(\"Best score:  %.2f%%\" % float(100*gs_clf.best_score_))"
   ]
  },
  {
   "cell_type": "code",
   "execution_count": 263,
   "metadata": {},
   "outputs": [],
   "source": [
    "#The pipeline already does the transformation using CountVectorizer\n",
    "X_test = X_test.reset_index(drop=True)\n",
    "X_test = X_test[:300]\n",
    "y_test = y_test.reset_index(drop=True)\n",
    "y_test = y_test[:300]\n",
    "y_pred = gs_clf.best_estimator_.predict(X_test)\n",
    "y_pred = pd.Series(data = y_pred)"
   ]
  },
  {
   "cell_type": "code",
   "execution_count": 264,
   "metadata": {},
   "outputs": [],
   "source": [
    "vect = gs_clf.estimator.steps[0][1]"
   ]
  },
  {
   "cell_type": "code",
   "execution_count": 265,
   "metadata": {},
   "outputs": [
    {
     "name": "stdout",
     "output_type": "stream",
     "text": [
      "Classification Report\n",
      "               precision    recall  f1-score   support\n",
      "\n",
      "       False       0.91      0.97      0.94       150\n",
      "        True       0.97      0.90      0.93       150\n",
      "\n",
      "    accuracy                           0.94       300\n",
      "   macro avg       0.94      0.94      0.94       300\n",
      "weighted avg       0.94      0.94      0.94       300\n",
      "\n"
     ]
    }
   ],
   "source": [
    "printClfReport(y_test, y_pred)"
   ]
  },
  {
   "cell_type": "code",
   "execution_count": 266,
   "metadata": {},
   "outputs": [
    {
     "name": "stdout",
     "output_type": "stream",
     "text": [
      "Confusion matrix\n",
      " [[146   4]\n",
      " [ 15 135]]\n"
     ]
    }
   ],
   "source": [
    "printConfusionMatrix(y_test, y_pred)"
   ]
  },
  {
   "cell_type": "code",
   "execution_count": 267,
   "metadata": {},
   "outputs": [
    {
     "data": {
      "image/png": "[encoded data removed]",
      "text/plain": [
       "<Figure size 432x288 with 1 Axes>"
      ]
     },
     "metadata": {
      "needs_background": "light"
     },
     "output_type": "display_data"
    }
   ],
   "source": [
    "plotROCCurve(y_test,y_pred)"
   ]
  },
  {
   "cell_type": "markdown",
   "metadata": {},
   "source": [
    "Se observan los primeros 3 falso positivos y 3 falsos negativos para verificar que la prediccion sea correcta"
   ]
  },
  {
   "cell_type": "code",
   "execution_count": 268,
   "metadata": {},
   "outputs": [
    {
     "name": "stdout",
     "output_type": "stream",
     "text": [
      "False Positive Reviews: \n",
      "\n",
      "I really like Alexa and think she's amazing but I don't agree with how her relationship's with David and Rachel ended. I feel like David got of easy for his infidelity. He tells his wife, then brings his kid home and thinks Alexa will just have to give in. He gets to keep his marriage and son and move on as if nothing happened. His practice doesn't even suffer. I feel like Alexa and Rachel suffer but David gets away with what he does.  Rachel sufferers when she gets locked up as she loses her family. She also loses the opportunity to connect with her son. Even though she suffers, I feel like she should have apologized to Alexa. Although some would see her giving up custody of her son as her way to right her wrong. I don't know that anyone can actually be as forgiving as Alexa was. I feel like she gets the short end of the stick and has to make due. I wanted a better ending for her. The story is well written and makes you want to know what will happen next.\n",
      "\n",
      "\n",
      "\n",
      "Even if you're ready to buy that a beautiful (non-religious) woman could still be a virgin in her late twenties because she was just &#34;too busy&#34; for men, this book is ridiculous.  There are spoilers within this review.&#34;Emily&#34; is also &#34;Lee.&#34;  She goes by &#34;Lee,&#34; but everyone in her life persists of thinking of her as two different people -- the nice and sweet &#34;Emily&#34; and the accomplished &#34;Lee.&#34;  Apparently the idea that women can have certain personality traits they maximize at work for professional success and temper in personal relationships, as men are capable of doing, is foreign to everyone in this fictional universe.  She is a virgin (seriously, who has the time for sex ever?) and falls for her new neighbor, the studly Jake.Emily/Lee is capable of having an orgasm just from the sound of his voice.  Believe me, this is run into the ground, as she orgasms in front of her friends (ew . . .) and groups of bar patrons.  For reasons that are a bit elusive, Jake decides that their relationship needs to wait forever for consummation, so they orgasm against each other on dance floors, walk-in freezers, bar stools, etc.  Apparently this is a lot classier than just finding a room and getting it over with.Jake and Emily/Lee both have parts of their past that they are reluctant to share with each other.  Jake is still recovering from the years of alcoholism brought on by the terror of obtaining a Ph.D and Emily/Lee had a terrible childhood.  Emily/Lee is very reliant on the support of her two besties -- Marilyn and Booker.  You can tell the author thinks the scenes with these two are hilarious, as we're constantly subjected to their jokes.  They've significantly complicated Emily/Lee's life by supporting the concept that Emily and Lee are two different people and treating her like a super-accomplished infant.  Also, get a drink in them and they'll pretty much spill all your secrets.  With friends like these . . .Just when you're getting into the flow of a light-hearted, if remarkably tedious, romance, things take a dark swing.  I love alphas (I married an alpha!), but Jake gave me the heebie-jeebies.  Before they are even exclusive, he's trying to control her entire life.  After they have sex for the first time, he realizes that he got so excited that he forgot to use protection and he declares that if she winds up being pregnant, they will get married right away.  This is after she said that she has no interest in marriage and children.  He doesn't really care -- he just tells her that she will anyway.  I'm sorry -- if YOU get too excited that you don't bother to think of our mutual interests, you don't get to just decide what will happen.  It all pales, however, in relation to what he does when he finds out a disturbing portion of her past (her past, as it in happened years before they ever met).  We're told that he puts his hands around her throat to show her how easily he could kill her.He puts his hands around her throat to show her how easily he could kill her.  To me, in a romance that has had no elements of power exchange, that is chilling.  And he does this in response to something that happened years ago before they even knew each other.And the book still ends with Emily/Lee going to Jake and begging for HIS forgiveness.  His behavior is never even an issue as Emily/Lee proceeds to give up everything in order to be with this guy.I get the fantasy element of romance, but for me, part of the fantasy is that the guy is worth being with.  Jake hates &#34;Lee,&#34; he can't stand everything that matters to her -- her independence, her company.  He's more concerned with her innocence and sweetness than anything else.  She isn't even a person to him.  The book ends with Jake having an orgasm in his pants after a mere embrace from Emily/Lee, a final image that is profoundly appropriate for this unerotic romp.\n",
      "\n",
      "\n",
      "\n",
      "I love the Texas Rangers, they are one of my favorites. This was just written like a series of very short stories, maybe a page.  It was dry and dull, not like the Texas Rangers I knew.\n",
      "\n",
      "\n",
      "\n",
      "False Negative Reviews: \n",
      "\n",
      "I really liked the book.  I was referred to this book to fill the Fifty Shades of Gray gap I had after reading that series.  I enjoyed the book but wished it was longer.  I was disaapointed in the quick and unsatifying conclusion.\n",
      "\n",
      "\n",
      "\n",
      "Lots of soft romance and action in densely packed novel not sure how accurate the time  line spent in England was true the date. As well as those were treated if the handicap was from birth or an accident. Also the same for that in Italy especially where the dressing of those of upper class and that of lower.A bit of women's fashion history:Though the lower class in Italy made much more sense, but fashion and women during those times, didn't seem to matter. High class or low class, women were expected to dressed up which could take hours depending on how high class your family was.  To the point that after every thing was done, you still didn't  have any underwear on or if you did you had to have a servant or two to pull it down so you could use the chamberpot then get you clean and get all the pettycoats all back in place. And only the very rich had stools for the women to sit on so the pettycoats would fall to the floor around the women or they were left to stand until the next day.  As sitting in a normal chair allowed all that passed to see all those pettycoats as well if were wearing underwear or not. Not to mention you had to have help standing back up.\n",
      "\n",
      "\n",
      "\n",
      "Like both characters.  Sara was irritating at times when she could not be more honest to her Prince.  Still a good read.\n",
      "\n",
      "\n",
      "\n"
     ]
    },
    {
     "data": {
      "text/plain": [
       "(7      I really like Alexa and think she's amazing bu...\n",
       " 62     Even if you're ready to buy that a beautiful (...\n",
       " 150    I love the Texas Rangers, they are one of my f...\n",
       " 156    This book is anal, and I mean in every physica...\n",
       " Name: reviewText, dtype: object,\n",
       " 35     I really liked the book.  I was referred to th...\n",
       " 38     Lots of soft romance and action in densely pac...\n",
       " 39     Like both characters.  Sara was irritating at ...\n",
       " 53     Just finished this one.  I gave all the Spinwa...\n",
       " 92     five good ald science fiction tales from the 4...\n",
       " 97     A book that makes you think while you're readi...\n",
       " 111    I know it is listed as a short story but I rea...\n",
       " 126    This book is an Excellent Story about staying ...\n",
       " 160    There is an elegance to the language used in t...\n",
       " 162    Holy biscuits! This was just waaay too wild.  ...\n",
       " 183    Okay I like sharia writing, I don't care about...\n",
       " 195    There are plenty of ideas in this imaginative ...\n",
       " 257    First of all, I downloaded this book for free....\n",
       " 261    When I read a book I need to be caught up in i...\n",
       " 284    The book, originally written just after the si...\n",
       " Name: reviewText, dtype: object)"
      ]
     },
     "execution_count": 268,
     "metadata": {},
     "output_type": "execute_result"
    }
   ],
   "source": [
    "getFPandFN(X_test,y_test,y_pred)"
   ]
  }
 ],
 "metadata": {
  "interpreter": {
   "hash": "696f1b3f4ec608302c0ac7d485b61cbe5cb6c2ed50640f9120220e665ff62020"
  },
  "kernelspec": {
   "display_name": "Python 3.9.2 64-bit",
   "name": "python3"
  },
  "language_info": {
   "codemirror_mode": {
    "name": "ipython",
    "version": 3
   },
   "file_extension": ".py",
   "mimetype": "text/x-python",
   "name": "python",
   "nbconvert_exporter": "python",
   "pygments_lexer": "ipython3",
   "version": "3.9.2"
  },
  "orig_nbformat": 4
 },
 "nbformat": 4,
 "nbformat_minor": 2
}
